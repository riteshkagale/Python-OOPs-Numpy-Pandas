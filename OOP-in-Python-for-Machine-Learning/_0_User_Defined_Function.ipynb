{
 "cells": [
  {
   "cell_type": "code",
   "execution_count": 1,
   "id": "81a69d7f",
   "metadata": {},
   "outputs": [],
   "source": [
    "# no argument, nor parameters and no return values"
   ]
  },
  {
   "cell_type": "code",
   "execution_count": 2,
   "id": "ed287ceb",
   "metadata": {},
   "outputs": [],
   "source": [
    "def add():\n",
    "    print(4+6)"
   ]
  },
  {
   "cell_type": "code",
   "execution_count": 3,
   "id": "cdaa5d00",
   "metadata": {},
   "outputs": [
    {
     "name": "stdout",
     "output_type": "stream",
     "text": [
      "10\n"
     ]
    }
   ],
   "source": [
    "add()"
   ]
  },
  {
   "cell_type": "code",
   "execution_count": 4,
   "id": "a3d1974d",
   "metadata": {},
   "outputs": [
    {
     "name": "stdout",
     "output_type": "stream",
     "text": [
      "10\n",
      "10\n",
      "10\n"
     ]
    }
   ],
   "source": [
    "# Also call iy several times\n",
    "add()\n",
    "add()\n",
    "add()"
   ]
  },
  {
   "cell_type": "code",
   "execution_count": 5,
   "id": "a6d216bb",
   "metadata": {},
   "outputs": [],
   "source": [
    "# Paremeters"
   ]
  },
  {
   "cell_type": "code",
   "execution_count": 6,
   "id": "4fc72d32",
   "metadata": {},
   "outputs": [],
   "source": [
    "def name(name):\n",
    "    print(f\"{name}\")"
   ]
  },
  {
   "cell_type": "code",
   "execution_count": 7,
   "id": "f6ad5336",
   "metadata": {
    "scrolled": true
   },
   "outputs": [
    {
     "name": "stdout",
     "output_type": "stream",
     "text": [
      "Ritesh\n",
      "Kagale\n"
     ]
    }
   ],
   "source": [
    "name('Ritesh')\n",
    "name('Kagale')"
   ]
  },
  {
   "cell_type": "code",
   "execution_count": 8,
   "id": "62048861",
   "metadata": {},
   "outputs": [],
   "source": [
    "# Two Paremeters"
   ]
  },
  {
   "cell_type": "code",
   "execution_count": 9,
   "id": "afc8f664",
   "metadata": {},
   "outputs": [],
   "source": [
    "def fullname(name, surname):\n",
    "    print(f\"Hi {name} {surname}\")"
   ]
  },
  {
   "cell_type": "code",
   "execution_count": 10,
   "id": "d63a3194",
   "metadata": {},
   "outputs": [
    {
     "name": "stdout",
     "output_type": "stream",
     "text": [
      "Hi Ritesh Kagale\n"
     ]
    }
   ],
   "source": [
    "fullname('Ritesh', 'Kagale')"
   ]
  },
  {
   "cell_type": "code",
   "execution_count": 11,
   "id": "d95050ad",
   "metadata": {},
   "outputs": [],
   "source": [
    "# Three Paremeters"
   ]
  },
  {
   "cell_type": "code",
   "execution_count": 12,
   "id": "a283a352",
   "metadata": {},
   "outputs": [],
   "source": [
    "def fullname(name, surname, nickname):\n",
    "    print(f\"Hi {name} {surname}, Is your nickname {nickname}\")"
   ]
  },
  {
   "cell_type": "code",
   "execution_count": 13,
   "id": "58412605",
   "metadata": {},
   "outputs": [
    {
     "name": "stdout",
     "output_type": "stream",
     "text": [
      "Hi Ritesh Kagale, Is your nickname rites\n"
     ]
    }
   ],
   "source": [
    "fullname('Ritesh', 'Kagale', 'rites')"
   ]
  },
  {
   "cell_type": "code",
   "execution_count": 14,
   "id": "26ac96d8",
   "metadata": {},
   "outputs": [],
   "source": [
    "def fullname(name, surname, nickname):\n",
    "    print(f\"Hi {name} {surname}, Is your nickname {nickname}\")"
   ]
  },
  {
   "cell_type": "code",
   "execution_count": 15,
   "id": "b58d274d",
   "metadata": {},
   "outputs": [
    {
     "ename": "TypeError",
     "evalue": "fullname() missing 1 required positional argument: 'nickname'",
     "output_type": "error",
     "traceback": [
      "\u001b[1;31m---------------------------------------------------------------------------\u001b[0m",
      "\u001b[1;31mTypeError\u001b[0m                                 Traceback (most recent call last)",
      "\u001b[1;32m<ipython-input-15-3be94434445b>\u001b[0m in \u001b[0;36m<module>\u001b[1;34m\u001b[0m\n\u001b[1;32m----> 1\u001b[1;33m \u001b[0mfullname\u001b[0m\u001b[1;33m(\u001b[0m\u001b[1;34m'Ritesh'\u001b[0m\u001b[1;33m,\u001b[0m \u001b[1;34m'Kagale'\u001b[0m\u001b[1;33m)\u001b[0m\u001b[1;33m\u001b[0m\u001b[1;33m\u001b[0m\u001b[0m\n\u001b[0m",
      "\u001b[1;31mTypeError\u001b[0m: fullname() missing 1 required positional argument: 'nickname'"
     ]
    }
   ],
   "source": [
    "fullname('Ritesh', 'Kagale')"
   ]
  },
  {
   "cell_type": "code",
   "execution_count": 16,
   "id": "f5c7a44b",
   "metadata": {},
   "outputs": [],
   "source": [
    "# Value inside Paremeters"
   ]
  },
  {
   "cell_type": "code",
   "execution_count": 17,
   "id": "05e99bd6",
   "metadata": {},
   "outputs": [],
   "source": [
    "def fullname(name, surname, nickname=\"rites\"):\n",
    "    print(f\"Hi {name} {surname}, Is your nickname {nickname}\")"
   ]
  },
  {
   "cell_type": "code",
   "execution_count": 18,
   "id": "fb5cbb8d",
   "metadata": {},
   "outputs": [
    {
     "name": "stdout",
     "output_type": "stream",
     "text": [
      "Hi Ritesh Kagale, Is your nickname rites\n"
     ]
    }
   ],
   "source": [
    "fullname('Ritesh', 'Kagale')"
   ]
  },
  {
   "cell_type": "code",
   "execution_count": 19,
   "id": "422000c9",
   "metadata": {},
   "outputs": [],
   "source": [
    "def fullname(name, surname, nickname=\"rites\"):\n",
    "    print(f\"Hi {name} {surname}, Is your nickname {nickname}\")"
   ]
  },
  {
   "cell_type": "code",
   "execution_count": 20,
   "id": "d7435f73",
   "metadata": {},
   "outputs": [
    {
     "name": "stdout",
     "output_type": "stream",
     "text": [
      "Hi Ritesh Kagale, Is your nickname RITU\n"
     ]
    }
   ],
   "source": [
    "fullname('Ritesh', 'Kagale', 'RITU')"
   ]
  },
  {
   "cell_type": "code",
   "execution_count": 21,
   "id": "f9a5fcc9",
   "metadata": {},
   "outputs": [
    {
     "ename": "SyntaxError",
     "evalue": "non-default argument follows default argument (<ipython-input-21-6a4538a1858b>, line 1)",
     "output_type": "error",
     "traceback": [
      "\u001b[1;36m  File \u001b[1;32m\"<ipython-input-21-6a4538a1858b>\"\u001b[1;36m, line \u001b[1;32m1\u001b[0m\n\u001b[1;33m    def fullname(name=\"Ritesh\", surname, nickname):\u001b[0m\n\u001b[1;37m                 ^\u001b[0m\n\u001b[1;31mSyntaxError\u001b[0m\u001b[1;31m:\u001b[0m non-default argument follows default argument\n"
     ]
    }
   ],
   "source": [
    "def fullname(name=\"Ritesh\", surname, nickname):\n",
    "    print(f\"Hi {name} {surname}, Is your nickname {nickname}\")"
   ]
  },
  {
   "cell_type": "code",
   "execution_count": 22,
   "id": "7e548fe7",
   "metadata": {},
   "outputs": [],
   "source": [
    "def fullname(name, surname, nickname):\n",
    "    print(f\"Hi {name} {surname}, Is your nickname {nickname}\")"
   ]
  },
  {
   "cell_type": "code",
   "execution_count": 23,
   "id": "d2090b70",
   "metadata": {},
   "outputs": [
    {
     "name": "stdout",
     "output_type": "stream",
     "text": [
      "Hi Ritesh Kagale, Is your nickname Rites\n"
     ]
    }
   ],
   "source": [
    "fullname(name=\"Ritesh\", surname=\"Kagale\", nickname=\"Rites\")"
   ]
  },
  {
   "cell_type": "code",
   "execution_count": 24,
   "id": "aa69b5fd",
   "metadata": {},
   "outputs": [],
   "source": [
    "# Argument Paremeters"
   ]
  },
  {
   "cell_type": "code",
   "execution_count": 25,
   "id": "ca4e4fa9",
   "metadata": {},
   "outputs": [],
   "source": [
    "def fullname(*args):\n",
    "    print(f\"Hi {args[0]} {args[1]}, Is your nickname {args[2]} ???\")"
   ]
  },
  {
   "cell_type": "code",
   "execution_count": 26,
   "id": "b39e2b9a",
   "metadata": {},
   "outputs": [
    {
     "name": "stdout",
     "output_type": "stream",
     "text": [
      "Hi Ritesh Kagale, Is your nickname RITU ???\n"
     ]
    }
   ],
   "source": [
    "fullname('Ritesh', 'Kagale', 'RITU')"
   ]
  },
  {
   "cell_type": "code",
   "execution_count": 27,
   "id": "1ff74262",
   "metadata": {},
   "outputs": [],
   "source": [
    "def names(*names):\n",
    "    for name in names:\n",
    "        print(\"Hello \", name)"
   ]
  },
  {
   "cell_type": "code",
   "execution_count": 28,
   "id": "50e39112",
   "metadata": {},
   "outputs": [
    {
     "name": "stdout",
     "output_type": "stream",
     "text": [
      "Hello  Ritesh\n",
      "Hello  Vyankatesh\n",
      "Hello  Vivek\n",
      "Hello  Ruturaj\n"
     ]
    }
   ],
   "source": [
    "names(\"Ritesh\", \"Vyankatesh\", \"Vivek\", \"Ruturaj\")"
   ]
  },
  {
   "cell_type": "code",
   "execution_count": 29,
   "id": "ae3285a3",
   "metadata": {},
   "outputs": [],
   "source": [
    "# Keyword Argument"
   ]
  },
  {
   "cell_type": "code",
   "execution_count": 30,
   "id": "08158a3f",
   "metadata": {},
   "outputs": [],
   "source": [
    "def fullname(**kwargs):\n",
    "    print(\"Hi \" +kwargs['name']+ \" \" +kwargs['surname']+ \" \" +\"how are you doing ?\")"
   ]
  },
  {
   "cell_type": "code",
   "execution_count": 31,
   "id": "142bd444",
   "metadata": {},
   "outputs": [
    {
     "name": "stdout",
     "output_type": "stream",
     "text": [
      "Hi Ritesh Kagale how are you doing ?\n"
     ]
    }
   ],
   "source": [
    "fullname(name=\"Ritesh\", surname=\"Kagale\")"
   ]
  },
  {
   "cell_type": "code",
   "execution_count": 32,
   "id": "18a547a2",
   "metadata": {},
   "outputs": [],
   "source": [
    "def student_info(*args, **kwargs):\n",
    "    print(args)\n",
    "    print(kwargs)"
   ]
  },
  {
   "cell_type": "code",
   "execution_count": 33,
   "id": "4ef8cbef",
   "metadata": {},
   "outputs": [
    {
     "name": "stdout",
     "output_type": "stream",
     "text": [
      "('maths', 'Science')\n",
      "{'name': 'Ritesh', 'age': 29}\n"
     ]
    }
   ],
   "source": [
    "student_info(\"maths\", \"Science\", name=\"Ritesh\", age=29)"
   ]
  },
  {
   "cell_type": "code",
   "execution_count": 34,
   "id": "268b5b03",
   "metadata": {},
   "outputs": [],
   "source": [
    "# Local Global Scope"
   ]
  },
  {
   "cell_type": "code",
   "execution_count": 35,
   "id": "6702d2c1",
   "metadata": {},
   "outputs": [],
   "source": [
    "def func():\n",
    "    x=23\n",
    "    print(23)"
   ]
  },
  {
   "cell_type": "code",
   "execution_count": 36,
   "id": "a191476e",
   "metadata": {},
   "outputs": [
    {
     "name": "stdout",
     "output_type": "stream",
     "text": [
      "23\n"
     ]
    }
   ],
   "source": [
    "func()"
   ]
  },
  {
   "cell_type": "code",
   "execution_count": 37,
   "id": "77f20c67",
   "metadata": {},
   "outputs": [],
   "source": [
    "def func():\n",
    "    x = 100\n",
    "    def innerfunc():\n",
    "        print(x)\n",
    "        innerfunc()"
   ]
  },
  {
   "cell_type": "code",
   "execution_count": 38,
   "id": "0a277d7c",
   "metadata": {},
   "outputs": [],
   "source": [
    "func()"
   ]
  },
  {
   "cell_type": "code",
   "execution_count": 39,
   "id": "eae04b97",
   "metadata": {},
   "outputs": [],
   "source": [
    "x = 100\n",
    "def func():\n",
    "    print(x)"
   ]
  },
  {
   "cell_type": "code",
   "execution_count": 40,
   "id": "72c06548",
   "metadata": {},
   "outputs": [
    {
     "name": "stdout",
     "output_type": "stream",
     "text": [
      "100\n",
      "100\n"
     ]
    }
   ],
   "source": [
    "func()\n",
    "print(x)"
   ]
  },
  {
   "cell_type": "code",
   "execution_count": 41,
   "id": "94fb1f61",
   "metadata": {},
   "outputs": [],
   "source": [
    "x = 50\n",
    "def func():\n",
    "    x = 40\n",
    "    print(x)"
   ]
  },
  {
   "cell_type": "code",
   "execution_count": 42,
   "id": "d7582a54",
   "metadata": {},
   "outputs": [
    {
     "name": "stdout",
     "output_type": "stream",
     "text": [
      "40\n",
      "50\n"
     ]
    }
   ],
   "source": [
    "func()\n",
    "print(x)"
   ]
  },
  {
   "cell_type": "code",
   "execution_count": 43,
   "id": "c64f61b7",
   "metadata": {},
   "outputs": [],
   "source": [
    "def assign(x, y):\n",
    "    print(x+y)"
   ]
  },
  {
   "cell_type": "code",
   "execution_count": 44,
   "id": "cb48795d",
   "metadata": {},
   "outputs": [
    {
     "name": "stdout",
     "output_type": "stream",
     "text": [
      "Enter an integer number: 6\n",
      "Enter another integer number: 4\n"
     ]
    }
   ],
   "source": [
    "x = int(input(\"Enter an integer number: \"))\n",
    "y = int(input(\"Enter another integer number: \"))"
   ]
  },
  {
   "cell_type": "code",
   "execution_count": 45,
   "id": "037c921f",
   "metadata": {},
   "outputs": [
    {
     "name": "stdout",
     "output_type": "stream",
     "text": [
      "10\n"
     ]
    }
   ],
   "source": [
    "assign(x, y)"
   ]
  },
  {
   "cell_type": "code",
   "execution_count": 46,
   "id": "73742e23",
   "metadata": {},
   "outputs": [],
   "source": [
    "def openlist(fruits):\n",
    "    for element in fruits:\n",
    "        print(element)"
   ]
  },
  {
   "cell_type": "code",
   "execution_count": 47,
   "id": "4be86c32",
   "metadata": {},
   "outputs": [
    {
     "name": "stdout",
     "output_type": "stream",
     "text": [
      "apple\n",
      "banana\n",
      "pear\n",
      "lemon\n"
     ]
    }
   ],
   "source": [
    "fruits = [\"apple\", \"banana\", \"pear\", \"lemon\"]\n",
    "openlist(fruits)"
   ]
  },
  {
   "cell_type": "code",
   "execution_count": 48,
   "id": "f6aec8c2",
   "metadata": {},
   "outputs": [],
   "source": [
    "# \"return\" Keyword\n",
    "def add(x,y):\n",
    "    z = x+y\n",
    "    return z"
   ]
  },
  {
   "cell_type": "code",
   "execution_count": 49,
   "id": "22851de8",
   "metadata": {},
   "outputs": [
    {
     "name": "stdout",
     "output_type": "stream",
     "text": [
      "10\n"
     ]
    }
   ],
   "source": [
    "d = add(3, 7)\n",
    "print(d)"
   ]
  },
  {
   "cell_type": "code",
   "execution_count": 50,
   "id": "5b3e1fc2",
   "metadata": {},
   "outputs": [
    {
     "name": "stdout",
     "output_type": "stream",
     "text": [
      "10\n"
     ]
    }
   ],
   "source": [
    "print(add(3, 7))"
   ]
  },
  {
   "cell_type": "code",
   "execution_count": 51,
   "id": "b2171a7a",
   "metadata": {},
   "outputs": [],
   "source": [
    "def op(x, y):\n",
    "    z = x+y\n",
    "    k = x-y\n",
    "    return z, k"
   ]
  },
  {
   "cell_type": "code",
   "execution_count": 52,
   "id": "caaa553e",
   "metadata": {},
   "outputs": [],
   "source": [
    "plus, minus = op(7, 4)"
   ]
  },
  {
   "cell_type": "code",
   "execution_count": 53,
   "id": "f500a7a6",
   "metadata": {},
   "outputs": [
    {
     "data": {
      "text/plain": [
       "11"
      ]
     },
     "execution_count": 53,
     "metadata": {},
     "output_type": "execute_result"
    }
   ],
   "source": [
    "plus"
   ]
  },
  {
   "cell_type": "code",
   "execution_count": 54,
   "id": "1c3e9e40",
   "metadata": {},
   "outputs": [
    {
     "data": {
      "text/plain": [
       "3"
      ]
     },
     "execution_count": 54,
     "metadata": {},
     "output_type": "execute_result"
    }
   ],
   "source": [
    "minus"
   ]
  },
  {
   "cell_type": "code",
   "execution_count": 55,
   "id": "47aa39fe",
   "metadata": {},
   "outputs": [],
   "source": [
    "def calc(x, y, op):\n",
    "    if op == \"-\":\n",
    "        return x-y\n",
    "    elif op == \"+\":\n",
    "        return x+y\n",
    "    elif op == \"/\":\n",
    "        return x/y\n",
    "    elif op == \"*\":\n",
    "        return x*y\n",
    "    else:\n",
    "        return \"Invalid Operator\""
   ]
  },
  {
   "cell_type": "code",
   "execution_count": 56,
   "id": "8cc4dbaf",
   "metadata": {},
   "outputs": [
    {
     "data": {
      "text/plain": [
       "24"
      ]
     },
     "execution_count": 56,
     "metadata": {},
     "output_type": "execute_result"
    }
   ],
   "source": [
    "calc(6, 4, \"*\")"
   ]
  },
  {
   "cell_type": "code",
   "execution_count": 57,
   "id": "5033d0b8",
   "metadata": {},
   "outputs": [],
   "source": [
    "def comm():\n",
    "    \"\"\"This is inside the comm function\"\"\"\n",
    "    print(\"Hello World\")"
   ]
  },
  {
   "cell_type": "code",
   "execution_count": 58,
   "id": "cdd06e16",
   "metadata": {},
   "outputs": [
    {
     "name": "stdout",
     "output_type": "stream",
     "text": [
      "This is inside the comm function\n"
     ]
    }
   ],
   "source": [
    "print(comm.__doc__)"
   ]
  },
  {
   "cell_type": "code",
   "execution_count": 59,
   "id": "9a8e8520",
   "metadata": {},
   "outputs": [],
   "source": [
    "def think():\n",
    "    pass"
   ]
  },
  {
   "cell_type": "code",
   "execution_count": null,
   "id": "bc5266d2",
   "metadata": {},
   "outputs": [],
   "source": []
  }
 ],
 "metadata": {
  "kernelspec": {
   "display_name": "Python 3",
   "language": "python",
   "name": "python3"
  },
  "language_info": {
   "codemirror_mode": {
    "name": "ipython",
    "version": 3
   },
   "file_extension": ".py",
   "mimetype": "text/x-python",
   "name": "python",
   "nbconvert_exporter": "python",
   "pygments_lexer": "ipython3",
   "version": "3.8.8"
  }
 },
 "nbformat": 4,
 "nbformat_minor": 5
}
