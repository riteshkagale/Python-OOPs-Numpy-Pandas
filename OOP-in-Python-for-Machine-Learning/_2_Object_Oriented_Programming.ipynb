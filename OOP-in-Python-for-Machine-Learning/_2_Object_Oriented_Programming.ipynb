{
 "cells": [
  {
   "cell_type": "code",
   "execution_count": 1,
   "id": "ed3c6a18",
   "metadata": {},
   "outputs": [],
   "source": [
    "# Python is an object oriented programming language.\n",
    "# Almost everything in Python is an object, with its properties and methods."
   ]
  },
  {
   "cell_type": "code",
   "execution_count": 2,
   "id": "13f049e4",
   "metadata": {},
   "outputs": [],
   "source": [
    "# A Class is like an object constructor"
   ]
  },
  {
   "cell_type": "code",
   "execution_count": 3,
   "id": "c96aa532",
   "metadata": {},
   "outputs": [],
   "source": [
    "# To create a class, use the keyword class:\n",
    "class Company:\n",
    "    pass"
   ]
  },
  {
   "cell_type": "code",
   "execution_count": 4,
   "id": "49edc9bb",
   "metadata": {},
   "outputs": [
    {
     "data": {
      "text/plain": [
       "<__main__.Company at 0x133ee331f10>"
      ]
     },
     "execution_count": 4,
     "metadata": {},
     "output_type": "execute_result"
    }
   ],
   "source": [
    "# Now we can use the class named Company to create objects:\n",
    "Range_Rover = Company()\n",
    "Range_Rover"
   ]
  },
  {
   "cell_type": "code",
   "execution_count": 8,
   "id": "2a171ab6",
   "metadata": {},
   "outputs": [],
   "source": [
    "# The self parameter is a reference to the current instance of the class, and is used to access variables that belong to the class."
   ]
  },
  {
   "cell_type": "code",
   "execution_count": 5,
   "id": "dd7b5820",
   "metadata": {},
   "outputs": [],
   "source": [
    "# Example\n",
    "class Company:\n",
    "    intro = \"This is a Manufacturing company of Range Rover\"\n",
    "    \n",
    "    def assembly(self):\n",
    "        print(\"Assembly line of a factory\")"
   ]
  },
  {
   "cell_type": "code",
   "execution_count": 7,
   "id": "d552c2ed",
   "metadata": {},
   "outputs": [
    {
     "name": "stdout",
     "output_type": "stream",
     "text": [
      "This is a Manufacturing company of Range Rover\n",
      "Assembly line of a factory\n"
     ]
    }
   ],
   "source": [
    "Range_Rover = Company()\n",
    "print(Range_Rover.intro)\n",
    "Range_Rover.assembly()"
   ]
  },
  {
   "cell_type": "code",
   "execution_count": 9,
   "id": "ef9be495",
   "metadata": {},
   "outputs": [],
   "source": [
    "# class Constructor\n",
    "class Person:\n",
    "    def __init__(self):\n",
    "        print (\"I always show up if you just call a class\")"
   ]
  },
  {
   "cell_type": "code",
   "execution_count": 11,
   "id": "f9e1c86a",
   "metadata": {},
   "outputs": [
    {
     "name": "stdout",
     "output_type": "stream",
     "text": [
      "I always show up if you just call a class\n"
     ]
    },
    {
     "data": {
      "text/plain": [
       "<__main__.Person at 0x133ee370220>"
      ]
     },
     "execution_count": 11,
     "metadata": {},
     "output_type": "execute_result"
    }
   ],
   "source": [
    "p1 = Person()\n",
    "p1"
   ]
  },
  {
   "cell_type": "code",
   "execution_count": 12,
   "id": "eebcfb12",
   "metadata": {},
   "outputs": [],
   "source": [
    "# Example\n",
    "class Person:\n",
    "    def __init__(self, name, age):\n",
    "        self.name = name\n",
    "        self.age = age"
   ]
  },
  {
   "cell_type": "code",
   "execution_count": 13,
   "id": "1adaa301",
   "metadata": {},
   "outputs": [
    {
     "name": "stdout",
     "output_type": "stream",
     "text": [
      "Ritesh\n",
      "29\n"
     ]
    }
   ],
   "source": [
    "p1 = Person(\"Ritesh\", 29)\n",
    "print(p1.name)\n",
    "print(p1.age)"
   ]
  },
  {
   "cell_type": "code",
   "execution_count": 20,
   "id": "8fdc9db0",
   "metadata": {},
   "outputs": [],
   "source": [
    "# Object Method: Objects can also contain methods. Methods in objects are functions that belong to the object."
   ]
  },
  {
   "cell_type": "code",
   "execution_count": 16,
   "id": "1bd7679e",
   "metadata": {},
   "outputs": [],
   "source": [
    "# Example\n",
    "class CarManufacturing:\n",
    "    def __init__(self, InsideDetails, OutsideDetails, Paint, WeildPart):\n",
    "        self.inDet = InsideDetails\n",
    "        self.outDet = OutsideDetails\n",
    "        self.color = Paint\n",
    "        self.weild = WeildPart\n",
    "    \n",
    "    def weilding_section(self):\n",
    "        print(f\"Manufacturing start with weilding {self.weild} of a car\")\n",
    "        \n",
    "    def painting_section(self):\n",
    "        print(f\"This section points the body of cars to the {self.color} colors\")\n",
    "    \n",
    "    def external_details(self):\n",
    "        print(f\"In this section {self.outDet} are assembled\")\n",
    "    \n",
    "    def internal_details(self):\n",
    "        print(f\"In this section {self.inDet} are assembled\")"
   ]
  },
  {
   "cell_type": "code",
   "execution_count": 17,
   "id": "1b819f2e",
   "metadata": {},
   "outputs": [
    {
     "name": "stdout",
     "output_type": "stream",
     "text": [
      "Manufacturing start with weilding Core Body and Doors of a car\n",
      "This section points the body of cars to the White, Black colors\n",
      "In this section Tires, Windows, Lights are assembled\n",
      "In this section Steering wheel, Scats, Buttons, Engine are assembled\n"
     ]
    }
   ],
   "source": [
    "Range_Rover = CarManufacturing(\"Steering wheel, Scats, Buttons, Engine\", \"Tires, Windows, Lights\", \"White, Black\", \"Core Body and Doors\")\n",
    "Range_Rover.weilding_section()\n",
    "Range_Rover.painting_section()\n",
    "Range_Rover.external_details()\n",
    "Range_Rover.internal_details()"
   ]
  },
  {
   "cell_type": "code",
   "execution_count": 18,
   "id": "ed2e586c",
   "metadata": {},
   "outputs": [],
   "source": [
    "# Destructor\n",
    "class Employee:\n",
    "    def __init__(self):\n",
    "        print(f\"Employee Created\")\n",
    "    \n",
    "    def __del__(self):\n",
    "        print(\"Destructor Created, Employee Deleted\")"
   ]
  },
  {
   "cell_type": "code",
   "execution_count": 19,
   "id": "ec967921",
   "metadata": {},
   "outputs": [
    {
     "name": "stdout",
     "output_type": "stream",
     "text": [
      "Employee Created\n",
      "Destructor Created, Employee Deleted\n"
     ]
    }
   ],
   "source": [
    "obj = Employee()\n",
    "del obj"
   ]
  },
  {
   "cell_type": "code",
   "execution_count": null,
   "id": "4c8211ca",
   "metadata": {},
   "outputs": [],
   "source": []
  },
  {
   "cell_type": "code",
   "execution_count": null,
   "id": "e36ee86d",
   "metadata": {},
   "outputs": [],
   "source": []
  },
  {
   "cell_type": "code",
   "execution_count": null,
   "id": "481f10dc",
   "metadata": {},
   "outputs": [],
   "source": []
  },
  {
   "cell_type": "code",
   "execution_count": null,
   "id": "1faf8838",
   "metadata": {},
   "outputs": [],
   "source": []
  }
 ],
 "metadata": {
  "kernelspec": {
   "display_name": "Python 3",
   "language": "python",
   "name": "python3"
  },
  "language_info": {
   "codemirror_mode": {
    "name": "ipython",
    "version": 3
   },
   "file_extension": ".py",
   "mimetype": "text/x-python",
   "name": "python",
   "nbconvert_exporter": "python",
   "pygments_lexer": "ipython3",
   "version": "3.8.8"
  }
 },
 "nbformat": 4,
 "nbformat_minor": 5
}
