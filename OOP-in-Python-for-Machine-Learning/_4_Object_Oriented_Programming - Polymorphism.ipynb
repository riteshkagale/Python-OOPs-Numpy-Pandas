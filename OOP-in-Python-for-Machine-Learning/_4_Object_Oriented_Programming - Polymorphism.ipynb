{
 "cells": [
  {
   "cell_type": "code",
   "execution_count": 1,
   "id": "c0f8dca6",
   "metadata": {},
   "outputs": [],
   "source": [
    "# Polymorphism is taken from the Greek words Poly (many) and morphism (forms). \n",
    "# It means that the same function name can be used for different types."
   ]
  },
  {
   "cell_type": "code",
   "execution_count": 2,
   "id": "1e73f502",
   "metadata": {},
   "outputs": [],
   "source": [
    "# Polymorphism with Function and Objects"
   ]
  },
  {
   "cell_type": "code",
   "execution_count": 7,
   "id": "6ac86663",
   "metadata": {},
   "outputs": [],
   "source": [
    "# Let’s take an example and create a function called “func()” which will take an object which we will name “obj”. \n",
    "# In this case, let’s call the methods type() and color(), each of which is defined in the two classes ‘Tomato’ and ‘Apple’. \n",
    "# Now, you have to create instantiations of both the ‘Tomato’ and ‘Apple’ classes if we don’t have them already:"
   ]
  },
  {
   "cell_type": "code",
   "execution_count": 8,
   "id": "8f6e1b28",
   "metadata": {},
   "outputs": [],
   "source": [
    "class Tomato(): \n",
    "     def type(self): \n",
    "       print(\"Vegetable\") \n",
    "     def color(self):\n",
    "       print(\"Red\") "
   ]
  },
  {
   "cell_type": "code",
   "execution_count": 9,
   "id": "67c08ea1",
   "metadata": {},
   "outputs": [],
   "source": [
    "class Apple(): \n",
    "     def type(self): \n",
    "       print(\"Fruit\") \n",
    "     def color(self): \n",
    "       print(\"Red\") "
   ]
  },
  {
   "cell_type": "code",
   "execution_count": 10,
   "id": "47a28391",
   "metadata": {},
   "outputs": [],
   "source": [
    "def func(obj): \n",
    "       obj.type() \n",
    "       obj.color()"
   ]
  },
  {
   "cell_type": "code",
   "execution_count": 11,
   "id": "efc58267",
   "metadata": {},
   "outputs": [
    {
     "name": "stdout",
     "output_type": "stream",
     "text": [
      "Vegetable\n",
      "Red\n",
      "Fruit\n",
      "Red\n"
     ]
    }
   ],
   "source": [
    "obj_tomato = Tomato() \n",
    "obj_apple = Apple() \n",
    "func(obj_tomato) \n",
    "func(obj_apple)"
   ]
  },
  {
   "cell_type": "code",
   "execution_count": 12,
   "id": "834cee94",
   "metadata": {},
   "outputs": [],
   "source": [
    "# Polymorphism with Class Methods"
   ]
  },
  {
   "cell_type": "code",
   "execution_count": 13,
   "id": "2e6c41e1",
   "metadata": {},
   "outputs": [],
   "source": [
    "class India():\n",
    "     def capital(self):\n",
    "       print(\"New Delhi\")\n",
    " \n",
    "     def language(self):\n",
    "       print(\"Hindi and English\")"
   ]
  },
  {
   "cell_type": "code",
   "execution_count": 14,
   "id": "4a4bf946",
   "metadata": {},
   "outputs": [],
   "source": [
    "class USA():\n",
    "     def capital(self):\n",
    "       print(\"Washington, D.C.\")\n",
    " \n",
    "     def language(self):\n",
    "       print(\"English\")"
   ]
  },
  {
   "cell_type": "code",
   "execution_count": 15,
   "id": "b290fb5b",
   "metadata": {},
   "outputs": [
    {
     "name": "stdout",
     "output_type": "stream",
     "text": [
      "New Delhi\n",
      "Hindi and English\n",
      "Washington, D.C.\n",
      "English\n"
     ]
    }
   ],
   "source": [
    "obj_ind = India()\n",
    "obj_usa = USA()\n",
    "for country in (obj_ind, obj_usa):\n",
    "    country.capital()\n",
    "    country.language()"
   ]
  },
  {
   "cell_type": "code",
   "execution_count": 16,
   "id": "e29f910b",
   "metadata": {},
   "outputs": [],
   "source": [
    "# Polymorphism with Inheritance\n",
    "# Methods in the child class that have the same name as the methods in the parent class."
   ]
  },
  {
   "cell_type": "code",
   "execution_count": 17,
   "id": "5c463172",
   "metadata": {},
   "outputs": [],
   "source": [
    "class Bird:\n",
    "     def intro(self):\n",
    "       print(\"There are different types of birds\")\n",
    " \n",
    "     def flight(self):\n",
    "       print(\"Most of the birds can fly but some cannot\")"
   ]
  },
  {
   "cell_type": "code",
   "execution_count": 19,
   "id": "51cca210",
   "metadata": {},
   "outputs": [],
   "source": [
    "class sparrow(Bird):\n",
    "     def flight(self):\n",
    "       print(\"sparrow can fly\")"
   ]
  },
  {
   "cell_type": "code",
   "execution_count": 20,
   "id": "80b9dc0c",
   "metadata": {},
   "outputs": [],
   "source": [
    "class ostrich(Bird):\n",
    "     def flight(self):\n",
    "       print(\"ostrich do not fly\")"
   ]
  },
  {
   "cell_type": "code",
   "execution_count": 21,
   "id": "26fb3e74",
   "metadata": {},
   "outputs": [],
   "source": [
    "obj_bird = Bird()\n",
    "obj_spar = sparrow()\n",
    "obj_ostr = ostrich()"
   ]
  },
  {
   "cell_type": "code",
   "execution_count": 22,
   "id": "3d38b266",
   "metadata": {},
   "outputs": [
    {
     "name": "stdout",
     "output_type": "stream",
     "text": [
      "There are different types of birds\n",
      "Most of the birds can fly but some cannot\n"
     ]
    }
   ],
   "source": [
    "obj_bird.intro()\n",
    "obj_bird.flight()"
   ]
  },
  {
   "cell_type": "code",
   "execution_count": 23,
   "id": "0b8b6faa",
   "metadata": {},
   "outputs": [
    {
     "name": "stdout",
     "output_type": "stream",
     "text": [
      "There are different types of birds\n",
      "sparrow can fly\n"
     ]
    }
   ],
   "source": [
    "obj_spar.intro()\n",
    "obj_spar.flight()"
   ]
  },
  {
   "cell_type": "code",
   "execution_count": 24,
   "id": "269c351b",
   "metadata": {},
   "outputs": [
    {
     "name": "stdout",
     "output_type": "stream",
     "text": [
      "There are different types of birds\n",
      "ostrich do not fly\n"
     ]
    }
   ],
   "source": [
    "obj_ostr.intro()\n",
    "obj_ostr.flight()"
   ]
  },
  {
   "cell_type": "code",
   "execution_count": null,
   "id": "aa904d95",
   "metadata": {},
   "outputs": [],
   "source": []
  }
 ],
 "metadata": {
  "kernelspec": {
   "display_name": "Python 3",
   "language": "python",
   "name": "python3"
  },
  "language_info": {
   "codemirror_mode": {
    "name": "ipython",
    "version": 3
   },
   "file_extension": ".py",
   "mimetype": "text/x-python",
   "name": "python",
   "nbconvert_exporter": "python",
   "pygments_lexer": "ipython3",
   "version": "3.8.8"
  }
 },
 "nbformat": 4,
 "nbformat_minor": 5
}
