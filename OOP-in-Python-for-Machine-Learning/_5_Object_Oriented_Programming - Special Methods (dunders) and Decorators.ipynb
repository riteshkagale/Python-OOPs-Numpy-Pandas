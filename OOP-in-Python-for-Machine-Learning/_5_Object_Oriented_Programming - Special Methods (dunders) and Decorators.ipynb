{
 "cells": [
  {
   "cell_type": "code",
   "execution_count": 2,
   "id": "f996d072",
   "metadata": {},
   "outputs": [],
   "source": [
    "# Decorator's are the properties which makes your methods or functions inside of your class like an attribute or varibles"
   ]
  },
  {
   "cell_type": "code",
   "execution_count": 3,
   "id": "abfd737a",
   "metadata": {},
   "outputs": [],
   "source": [
    "# Example\n",
    "class CarManufacturing:\n",
    "    def __init__(self, InsideDetails, OutsideDetails, Paint, WeildPart):\n",
    "        self.inDet = InsideDetails\n",
    "        self.outDet = OutsideDetails\n",
    "        self.color = Paint\n",
    "        self.weild = WeildPart\n",
    "    \n",
    "    @property\n",
    "    def weilding_section(self):\n",
    "        print(f\"Manufacturing start with weilding {self.weild} of a car\")\n",
    "        \n",
    "    def painting_section(self):\n",
    "        print(f\"This section points the body of cars to the {self.color} colors\")\n",
    "    \n",
    "    def external_details(self):\n",
    "        print(f\"In this section {self.outDet} are assembled\")\n",
    "    \n",
    "    def internal_details(self):\n",
    "        print(f\"In this section {self.inDet} are assembled\")"
   ]
  },
  {
   "cell_type": "code",
   "execution_count": 6,
   "id": "36f6a54d",
   "metadata": {},
   "outputs": [
    {
     "name": "stdout",
     "output_type": "stream",
     "text": [
      "Manufacturing start with weilding Core Body and Doors of a car\n",
      "This section points the body of cars to the White, Black colors\n"
     ]
    }
   ],
   "source": [
    "Range_Rover = CarManufacturing(\"Steering wheel, Scats, Buttons, Engine\", \"Tires, Windows, Lights\", \"White, Black\", \"Core Body and Doors\")\n",
    "Range_Rover.weilding_section\n",
    "Range_Rover.painting_section()"
   ]
  },
  {
   "cell_type": "code",
   "execution_count": 5,
   "id": "1dd43029",
   "metadata": {},
   "outputs": [],
   "source": [
    "# @property is used to convert function/method to attribute/parameter\n",
    "# we do not need to give brackets \"Range_Rover.weilding_section\""
   ]
  },
  {
   "cell_type": "code",
   "execution_count": 7,
   "id": "3324406e",
   "metadata": {},
   "outputs": [],
   "source": [
    "# We can put number's of property"
   ]
  },
  {
   "cell_type": "code",
   "execution_count": 8,
   "id": "85620468",
   "metadata": {},
   "outputs": [
    {
     "ename": "AttributeError",
     "evalue": "can't set attribute",
     "output_type": "error",
     "traceback": [
      "\u001b[1;31m---------------------------------------------------------------------------\u001b[0m",
      "\u001b[1;31mAttributeError\u001b[0m                            Traceback (most recent call last)",
      "\u001b[1;32m<ipython-input-8-08217e333e1e>\u001b[0m in \u001b[0;36m<module>\u001b[1;34m\u001b[0m\n\u001b[1;32m----> 1\u001b[1;33m \u001b[0mRange_Rover\u001b[0m\u001b[1;33m.\u001b[0m\u001b[0mweilding_section\u001b[0m \u001b[1;33m=\u001b[0m \u001b[1;34m\"Tom\"\u001b[0m\u001b[1;33m\u001b[0m\u001b[1;33m\u001b[0m\u001b[0m\n\u001b[0m",
      "\u001b[1;31mAttributeError\u001b[0m: can't set attribute"
     ]
    }
   ],
   "source": [
    "Range_Rover.weilding_section = \"Tom\""
   ]
  },
  {
   "cell_type": "code",
   "execution_count": 9,
   "id": "15b31b31",
   "metadata": {},
   "outputs": [],
   "source": [
    "# if we use decorators, we can not assign any value"
   ]
  },
  {
   "cell_type": "code",
   "execution_count": 16,
   "id": "125de6e4",
   "metadata": {},
   "outputs": [],
   "source": [
    "# Example\n",
    "class CarManufacturing:\n",
    "    def __init__(self, InsideDetails, OutsideDetails, Paint, WeildPart):\n",
    "        self.inDet = InsideDetails\n",
    "        self.outDet = OutsideDetails\n",
    "        self.color = Paint\n",
    "        self.weild = WeildPart\n",
    "    \n",
    "    @property\n",
    "    def weilding_section(self):\n",
    "        print(f\"Manufacturing start with weilding {self.weild} of a car\")\n",
    "        \n",
    "    \n",
    "    @weilding_section.setter\n",
    "    def weilding_section(self, weild):\n",
    "        self.weild = weild\n",
    "        print(f\"Manufacturing start with weilding {self.weild} of a car\")\n",
    "    \n",
    "    \n",
    "    def painting_section(self):\n",
    "        print(f\"This section points the body of cars to the {self.color} colors\")\n",
    "    \n",
    "    def external_details(self):\n",
    "        print(f\"In this section {self.outDet} are assembled\")\n",
    "    \n",
    "    def internal_details(self):\n",
    "        print(f\"In this section {self.inDet} are assembled\")"
   ]
  },
  {
   "cell_type": "code",
   "execution_count": 17,
   "id": "0baf56f8",
   "metadata": {},
   "outputs": [
    {
     "name": "stdout",
     "output_type": "stream",
     "text": [
      "Manufacturing start with weilding Bonnet and Boot of a car\n"
     ]
    }
   ],
   "source": [
    "Range_Rover = CarManufacturing(\"Steering wheel, Scats, Buttons, Engine\", \"Tires, Windows, Lights\", \"White, Black\", \"Core Body and Doors\")\n",
    "Range_Rover.weilding_section = \"Bonnet and Boot\""
   ]
  },
  {
   "cell_type": "code",
   "execution_count": 18,
   "id": "1dba85de",
   "metadata": {},
   "outputs": [],
   "source": [
    "# Dunder or magic/special methods in Python are the methods having two prefix and suffix underscores in the method name. \n",
    "# Dunder here means “Double Under (Underscores)”. \n",
    "# These are commonly used for operator overloading  __init__, __add__, __len__, __repr__ etc"
   ]
  },
  {
   "cell_type": "code",
   "execution_count": 25,
   "id": "f1335fa2",
   "metadata": {},
   "outputs": [],
   "source": [
    "# Example\n",
    "class CarManufacturing:\n",
    "    def __init__(self, InsideDetails, OutsideDetails, Paint, WeildPart):\n",
    "        self.inDet = InsideDetails\n",
    "        self.outDet = OutsideDetails\n",
    "        self.color = Paint\n",
    "        self.weild = WeildPart\n",
    "    \n",
    "    def __repr__(self):\n",
    "        return (f\"Manufacturing start with weilding of a car \".format(self.weild))\n",
    "    \n",
    "    def painting_section(self):\n",
    "        print(f\"This section points the body of cars to the {self.color} colors\")\n",
    "    \n",
    "    def external_details(self):\n",
    "        print(f\"In this section {self.outDet} are assembled\")\n",
    "    \n",
    "    def internal_details(self):\n",
    "        print(f\"In this section {self.inDet} are assembled\")"
   ]
  },
  {
   "cell_type": "code",
   "execution_count": 26,
   "id": "4239c457",
   "metadata": {},
   "outputs": [
    {
     "data": {
      "text/plain": [
       "Manufacturing start with weilding of a car "
      ]
     },
     "execution_count": 26,
     "metadata": {},
     "output_type": "execute_result"
    }
   ],
   "source": [
    "Range_Rover = CarManufacturing(\"Steering wheel, Scats, Buttons, Engine\", \"Tires, Windows, Lights\", \"White, Black\", \"Core Body and Doors\")\n",
    "Range_Rover"
   ]
  },
  {
   "cell_type": "code",
   "execution_count": 27,
   "id": "e4578601",
   "metadata": {},
   "outputs": [],
   "source": [
    "# Example\n",
    "class CarManufacturing:\n",
    "    def __init__(self, InsideDetails, OutsideDetails, Paint, WeildPart):\n",
    "        self.inDet = InsideDetails\n",
    "        self.outDet = OutsideDetails\n",
    "        self.color = Paint\n",
    "        self.weild = WeildPart\n",
    "    \n",
    "    def __repr__(self):\n",
    "        return (f\"Manufacturing start with weilding of a car \".format(self.weild))\n",
    "    \n",
    "    def __str__(self):\n",
    "        return (f\"This section points the body of cars to the colors\".format(self.color))\n",
    "    \n",
    "    def external_details(self):\n",
    "        print(f\"In this section {self.outDet} are assembled\")\n",
    "    \n",
    "    def internal_details(self):\n",
    "        print(f\"In this section {self.inDet} are assembled\")"
   ]
  },
  {
   "cell_type": "code",
   "execution_count": 28,
   "id": "8380aaa1",
   "metadata": {},
   "outputs": [
    {
     "name": "stdout",
     "output_type": "stream",
     "text": [
      "This section points the body of cars to the colors\n"
     ]
    }
   ],
   "source": [
    "Range_Rover = CarManufacturing(\"Steering wheel, Scats, Buttons, Engine\", \"Tires, Windows, Lights\", \"White, Black\", \"Core Body and Doors\")\n",
    "print(Range_Rover)"
   ]
  },
  {
   "cell_type": "code",
   "execution_count": 29,
   "id": "71d616ff",
   "metadata": {},
   "outputs": [],
   "source": [
    "### NOTE: Now Comment __str__ method and check the output"
   ]
  },
  {
   "cell_type": "code",
   "execution_count": 30,
   "id": "ce9fdf82",
   "metadata": {},
   "outputs": [],
   "source": [
    "# Example\n",
    "class CarManufacturing:\n",
    "    def __init__(self, InsideDetails, OutsideDetails, Paint, WeildPart):\n",
    "        self.inDet = InsideDetails\n",
    "        self.outDet = OutsideDetails\n",
    "        self.color = Paint\n",
    "        self.weild = WeildPart\n",
    "    \n",
    "    def __repr__(self):\n",
    "        return (f\"Manufacturing start with weilding of a car \".format(self.weild))\n",
    "    \n",
    "#     def __str__(self):\n",
    "#         return (f\"This section points the body of cars to the colors\".format(self.color))\n",
    "    \n",
    "    def external_details(self):\n",
    "        print(f\"In this section {self.outDet} are assembled\")\n",
    "    \n",
    "    def internal_details(self):\n",
    "        print(f\"In this section {self.inDet} are assembled\")"
   ]
  },
  {
   "cell_type": "code",
   "execution_count": 31,
   "id": "faea0631",
   "metadata": {},
   "outputs": [
    {
     "name": "stdout",
     "output_type": "stream",
     "text": [
      "Manufacturing start with weilding of a car \n"
     ]
    }
   ],
   "source": [
    "Range_Rover = CarManufacturing(\"Steering wheel, Scats, Buttons, Engine\", \"Tires, Windows, Lights\", \"White, Black\", \"Core Body and Doors\")\n",
    "print(Range_Rover)"
   ]
  },
  {
   "cell_type": "code",
   "execution_count": 32,
   "id": "f56a49ea",
   "metadata": {},
   "outputs": [],
   "source": [
    "### __str__ method is stronger than __repr__ method"
   ]
  },
  {
   "cell_type": "code",
   "execution_count": 33,
   "id": "a78da8ec",
   "metadata": {},
   "outputs": [],
   "source": [
    "# Example\n",
    "class CarManufacturing:\n",
    "    def __init__(self, InsideDetails, OutsideDetails, Paint, WeildPart):\n",
    "        self.inDet = InsideDetails\n",
    "        self.outDet = OutsideDetails\n",
    "        self.color = Paint\n",
    "        self.weild = WeildPart\n",
    "    \n",
    "    def __repr__(self):\n",
    "        return (f\"Manufacturing start with weilding of a car \".format(self.weild))\n",
    "    \n",
    "    def __str__(self):\n",
    "        return (f\"This section points the body of cars to the colors\".format(self.color))\n",
    "    \n",
    "    def external_details(self):\n",
    "        print(f\"In this section {self.outDet} are assembled\")\n",
    "    \n",
    "    def internal_details(self):\n",
    "        print(f\"In this section {self.inDet} are assembled\")"
   ]
  },
  {
   "cell_type": "code",
   "execution_count": 34,
   "id": "4f436f2f",
   "metadata": {},
   "outputs": [
    {
     "name": "stdout",
     "output_type": "stream",
     "text": [
      "Manufacturing start with weilding of a car \n",
      "This section points the body of cars to the colors\n"
     ]
    }
   ],
   "source": [
    "Range_Rover = CarManufacturing(\"Steering wheel, Scats, Buttons, Engine\", \"Tires, Windows, Lights\", \"White, Black\", \"Core Body and Doors\")\n",
    "print(repr(Range_Rover))\n",
    "print(str(Range_Rover))"
   ]
  },
  {
   "cell_type": "code",
   "execution_count": 36,
   "id": "0efc36c1",
   "metadata": {},
   "outputs": [
    {
     "name": "stdout",
     "output_type": "stream",
     "text": [
      "Manufacturing start with weilding of a car \n",
      "This section points the body of cars to the colors\n"
     ]
    }
   ],
   "source": [
    "Range_Rover = CarManufacturing(\"Steering wheel, Scats, Buttons, Engine\", \"Tires, Windows, Lights\", \"White, Black\", \"Core Body and Doors\")\n",
    "print(Range_Rover.__repr__())\n",
    "print(Range_Rover.__str__())"
   ]
  },
  {
   "cell_type": "code",
   "execution_count": 37,
   "id": "25740c70",
   "metadata": {},
   "outputs": [],
   "source": [
    "### Addition example\n",
    "class MakeOfCar:\n",
    "    def __init__(self, brand, model, price):\n",
    "        self.brand = brand\n",
    "        self.model = model\n",
    "        self.price = price\n",
    "    def Advertisement(self):\n",
    "        print(\"{} {} {}\".format(self.brand, self.model, self.price))\n",
    "    def __add__(self, other):\n",
    "        return (self.price + other.price)"
   ]
  },
  {
   "cell_type": "code",
   "execution_count": 38,
   "id": "6cc672fb",
   "metadata": {},
   "outputs": [],
   "source": [
    "car1 = MakeOfCar(\"Range Rover\", \"Autobiography\", 200000)\n",
    "car2 = MakeOfCar(\"Ferrari\", \"Laferrari\", 5000000)"
   ]
  },
  {
   "cell_type": "code",
   "execution_count": 39,
   "id": "d670b255",
   "metadata": {},
   "outputs": [
    {
     "name": "stdout",
     "output_type": "stream",
     "text": [
      "5200000\n"
     ]
    }
   ],
   "source": [
    "print(car1 + car2)"
   ]
  },
  {
   "cell_type": "code",
   "execution_count": null,
   "id": "df16c8e1",
   "metadata": {},
   "outputs": [],
   "source": []
  },
  {
   "cell_type": "code",
   "execution_count": null,
   "id": "67177484",
   "metadata": {},
   "outputs": [],
   "source": []
  }
 ],
 "metadata": {
  "kernelspec": {
   "display_name": "Python 3",
   "language": "python",
   "name": "python3"
  },
  "language_info": {
   "codemirror_mode": {
    "name": "ipython",
    "version": 3
   },
   "file_extension": ".py",
   "mimetype": "text/x-python",
   "name": "python",
   "nbconvert_exporter": "python",
   "pygments_lexer": "ipython3",
   "version": "3.8.8"
  }
 },
 "nbformat": 4,
 "nbformat_minor": 5
}
