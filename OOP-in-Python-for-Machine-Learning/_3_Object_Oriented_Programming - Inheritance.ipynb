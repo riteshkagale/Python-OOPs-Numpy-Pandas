{
 "cells": [
  {
   "cell_type": "code",
   "execution_count": 1,
   "id": "2f1c5378",
   "metadata": {},
   "outputs": [],
   "source": [
    "# Python Inheritance\n",
    "# Inheritance allows us to define a class that inherits all the methods and properties from another class.\n",
    "# Parent class is the class being inherited from, also called base class.\n",
    "# Child class is the class that inherits from another class, also called derived class."
   ]
  },
  {
   "cell_type": "code",
   "execution_count": 2,
   "id": "218182fa",
   "metadata": {},
   "outputs": [],
   "source": [
    "# Example\n",
    "class CarManufacturing:\n",
    "    def __init__(self, InsideDetails, OutsideDetails, Paint, WeildPart):\n",
    "        self.inDet = InsideDetails\n",
    "        self.outDet = OutsideDetails\n",
    "        self.color = Paint\n",
    "        self.weild = WeildPart\n",
    "    \n",
    "    def weilding_section(self):\n",
    "        print(f\"Manufacturing start with weilding {self.weild} of a car\")\n",
    "        \n",
    "    def painting_section(self):\n",
    "        print(f\"This section points the body of cars to the {self.color} colors\")\n",
    "    \n",
    "    def external_details(self):\n",
    "        print(f\"In this section {self.outDet} are assembled\")\n",
    "    \n",
    "    def internal_details(self):\n",
    "        print(f\"In this section {self.inDet} are assembled\")"
   ]
  },
  {
   "cell_type": "code",
   "execution_count": 3,
   "id": "961415e2",
   "metadata": {},
   "outputs": [],
   "source": [
    "class miniTruck(CarManufacturing):\n",
    "    def __init__(self, InsideDetails, OutsideDetails, Paint, WeildPart, BackBoard):\n",
    "        CarManufacturing.__init__(self, InsideDetails, OutsideDetails, Paint, WeildPart)"
   ]
  },
  {
   "cell_type": "code",
   "execution_count": 4,
   "id": "f14e54c1",
   "metadata": {},
   "outputs": [],
   "source": [
    "# Now we have successfully added the __init__() function, and kept the inheritance of the parent class, \n",
    "# and we are ready to add functionality in the __init__() function."
   ]
  },
  {
   "cell_type": "code",
   "execution_count": 5,
   "id": "4c875784",
   "metadata": {},
   "outputs": [],
   "source": [
    "# Python also has a super() function that will make the child class inherit all the methods and properties from its parent:"
   ]
  },
  {
   "cell_type": "code",
   "execution_count": 6,
   "id": "5b47ecb0",
   "metadata": {},
   "outputs": [],
   "source": [
    "# By using the super() function, you do not have to use the name of the parent element, \n",
    "# it will automatically inherit the methods and properties from its parent."
   ]
  },
  {
   "cell_type": "code",
   "execution_count": 7,
   "id": "0f90a934",
   "metadata": {},
   "outputs": [],
   "source": [
    "class miniTruck(CarManufacturing):\n",
    "    def __init__(self, InsideDetails, OutsideDetails, Paint, WeildPart, BackBoard):\n",
    "        super().__init__(InsideDetails, OutsideDetails, Paint, WeildPart)\n",
    "        self.backboard = BackBoard\n",
    "    \n",
    "    def backboard_section(self):\n",
    "        print(f\"In this part {self.backboard} of a porter is assembled\")\n"
   ]
  },
  {
   "cell_type": "code",
   "execution_count": 8,
   "id": "554a7e43",
   "metadata": {},
   "outputs": [
    {
     "name": "stdout",
     "output_type": "stream",
     "text": [
      "Manufacturing start with weilding Core Body and Doors of a car\n",
      "This section points the body of cars to the White, Black colors\n",
      "In this section Tires, Windows, Lights are assembled\n",
      "In this section Steering wheel, Scats, Buttons, Engine are assembled\n",
      "In this part Long and Short of a porter is assembled\n"
     ]
    }
   ],
   "source": [
    "porter = miniTruck(\"Steering wheel, Scats, Buttons, Engine\", \"Tires, Windows, Lights\", \"White, Black\", \"Core Body and Doors\", \"Long and Short\")\n",
    "porter.weilding_section()\n",
    "porter.painting_section()\n",
    "porter.external_details()\n",
    "porter.internal_details()\n",
    "porter.backboard_section()"
   ]
  },
  {
   "cell_type": "code",
   "execution_count": 9,
   "id": "78130116",
   "metadata": {},
   "outputs": [],
   "source": [
    "# Multiple Inheritance\n",
    "class Mother:\n",
    "    mothername = \" \"\n",
    "    def mother(self):\n",
    "        print(self.mothername)"
   ]
  },
  {
   "cell_type": "code",
   "execution_count": 10,
   "id": "17ae95fe",
   "metadata": {},
   "outputs": [],
   "source": [
    "class Father:\n",
    "    fathername = \" \"\n",
    "    def father(self):\n",
    "        print(self.fathername)\n"
   ]
  },
  {
   "cell_type": "code",
   "execution_count": 11,
   "id": "7b5247b8",
   "metadata": {},
   "outputs": [],
   "source": [
    "class Son(Mother, Father):\n",
    "    def parents(self):\n",
    "        print(\"Father: \", self.fathername)\n",
    "        print(\"Mother: \", self.mothername)"
   ]
  },
  {
   "cell_type": "code",
   "execution_count": 12,
   "id": "6b0d4632",
   "metadata": {},
   "outputs": [
    {
     "name": "stdout",
     "output_type": "stream",
     "text": [
      "Father:  Ram\n",
      "Mother:  Sita\n"
     ]
    }
   ],
   "source": [
    "son = Son()\n",
    "son.fathername = \"Ram\"\n",
    "son.mothername = \"Sita\"\n",
    "son.parents()"
   ]
  },
  {
   "cell_type": "code",
   "execution_count": 13,
   "id": "301fd4fb",
   "metadata": {},
   "outputs": [
    {
     "name": "stdout",
     "output_type": "stream",
     "text": [
      "Object `code` not found.\n"
     ]
    }
   ],
   "source": [
    "### Exmaples\n",
    "What is the output of the following code?\n",
    "class Dog:\n",
    "    def walk(self):\n",
    "        return \"*Walking*\"\n",
    "    def speak(self):\n",
    "        return \"*Woof!!!*\""
   ]
  },
  {
   "cell_type": "code",
   "execution_count": 14,
   "id": "739d196a",
   "metadata": {},
   "outputs": [],
   "source": [
    "class JackRussellTerrier(Dog):\n",
    "    def speak(self):\n",
    "        return \"*Arfff!!!*\""
   ]
  },
  {
   "cell_type": "code",
   "execution_count": 15,
   "id": "56cdb558",
   "metadata": {},
   "outputs": [
    {
     "data": {
      "text/plain": [
       "'*Walking*'"
      ]
     },
     "execution_count": 15,
     "metadata": {},
     "output_type": "execute_result"
    }
   ],
   "source": [
    "bobo = JackRussellTerrier()\n",
    "bobo.walk()"
   ]
  },
  {
   "cell_type": "code",
   "execution_count": 22,
   "id": "33d14f54",
   "metadata": {},
   "outputs": [
    {
     "name": "stdout",
     "output_type": "stream",
     "text": [
      "Object `code` not found.\n"
     ]
    },
    {
     "data": {
      "text/plain": [
       "'*Arfff!!!*'"
      ]
     },
     "execution_count": 22,
     "metadata": {},
     "output_type": "execute_result"
    }
   ],
   "source": [
    "### Exmaples\n",
    "What is the output of the following code?\n",
    "class Dog:\n",
    "    def walk(self):\n",
    "        return \"*Walking*\"\n",
    "    def speak(self):\n",
    "        return \"*Woof!!!*\"\n",
    "class JackRussellTerrier(Dog):\n",
    "    def speak(self):\n",
    "        return \"*Arfff!!!*\"\n",
    "bobo = JackRussellTerrier()\n",
    "bobo.speak()"
   ]
  },
  {
   "cell_type": "code",
   "execution_count": 19,
   "id": "799b5861",
   "metadata": {},
   "outputs": [
    {
     "name": "stdout",
     "output_type": "stream",
     "text": [
      "Object `code` not found.\n"
     ]
    }
   ],
   "source": [
    "### Exmaples\n",
    "What is the output of the following code?\n",
    "class Dog:\n",
    "    def walk(self):\n",
    "        return \"*Walking*\"\n",
    "    def speak(self):\n",
    "        return \"*Woof!!!*\""
   ]
  },
  {
   "cell_type": "code",
   "execution_count": 20,
   "id": "65436680",
   "metadata": {},
   "outputs": [],
   "source": [
    "class JackRussellTerrier(Dog):\n",
    "    def talk(self):\n",
    "        return super().speak()"
   ]
  },
  {
   "cell_type": "code",
   "execution_count": 21,
   "id": "6a595701",
   "metadata": {},
   "outputs": [
    {
     "data": {
      "text/plain": [
       "'*Woof!!!*'"
      ]
     },
     "execution_count": 21,
     "metadata": {},
     "output_type": "execute_result"
    }
   ],
   "source": [
    "bobo = JackRussellTerrier()\n",
    "bobo.talk()"
   ]
  },
  {
   "cell_type": "code",
   "execution_count": null,
   "id": "610a37e3",
   "metadata": {},
   "outputs": [],
   "source": []
  }
 ],
 "metadata": {
  "kernelspec": {
   "display_name": "Python 3",
   "language": "python",
   "name": "python3"
  },
  "language_info": {
   "codemirror_mode": {
    "name": "ipython",
    "version": 3
   },
   "file_extension": ".py",
   "mimetype": "text/x-python",
   "name": "python",
   "nbconvert_exporter": "python",
   "pygments_lexer": "ipython3",
   "version": "3.8.8"
  }
 },
 "nbformat": 4,
 "nbformat_minor": 5
}
