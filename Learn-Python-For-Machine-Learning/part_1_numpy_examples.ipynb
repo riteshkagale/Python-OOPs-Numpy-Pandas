{
  "nbformat": 4,
  "nbformat_minor": 0,
  "metadata": {
    "kernelspec": {
      "display_name": "Python 3",
      "language": "python",
      "name": "python3"
    },
    "language_info": {
      "codemirror_mode": {
        "name": "ipython",
        "version": 3
      },
      "file_extension": ".py",
      "mimetype": "text/x-python",
      "name": "python",
      "nbconvert_exporter": "python",
      "pygments_lexer": "ipython3",
      "version": "3.6.8"
    },
    "colab": {
      "name": "part_1_numpy_examples.ipynb",
      "provenance": []
    }
  },
  "cells": [
    {
      "cell_type": "markdown",
      "metadata": {
        "id": "cCFRpwrzhVZv"
      },
      "source": [
        "# NumPy\n",
        "\n",
        "numpy is python's package for doing math that is more advanced than +-*/\n",
        "\n",
        "This includes special functions like cosine, exponential, sqrt, ...\n",
        "\n",
        "On top of this we can use numpy to generate samples from many types of random variables\n",
        "\n",
        "numpy also has a powerful data type to define vectors, matrices, and tensors\n",
        "\n",
        "With these data types numpy also allows us to do linear algebra - matrix multiplication and matrix-vector solutions"
      ]
    },
    {
      "cell_type": "code",
      "metadata": {
        "id": "0qpL-5KuhVZw"
      },
      "source": [
        "# the first step of using numpy is to tell python to use it\n",
        "import numpy as np"
      ],
      "execution_count": 1,
      "outputs": []
    },
    {
      "cell_type": "code",
      "metadata": {
        "id": "upI2YKxYhVZ0",
        "outputId": "53a8032f-29d8-49d5-948f-e34a219fa5a0",
        "colab": {
          "base_uri": "https://localhost:8080/",
          "height": 67
        }
      },
      "source": [
        "print(np.cos(np.pi))\n",
        "print(np.sqrt(1.21))\n",
        "print(np.log(np.exp(5.2)))"
      ],
      "execution_count": 2,
      "outputs": [
        {
          "output_type": "stream",
          "text": [
            "-1.0\n",
            "1.1\n",
            "5.2\n"
          ],
          "name": "stdout"
        }
      ]
    },
    {
      "cell_type": "code",
      "metadata": {
        "id": "0eRnxnGjhVZ-",
        "outputId": "7c751436-6fdf-4970-976e-829f83a80c7c",
        "colab": {
          "base_uri": "https://localhost:8080/",
          "height": 168
        }
      },
      "source": [
        "# we can create numpy arrays by converting lists\n",
        "# this is a vector\n",
        "vec = np.array([1,2,3])\n",
        "print(vec)\n",
        "# we can create matrices by converting lists of lists\n",
        "mat = np.array([[1,2,1],[4,5,9],[1,8,9]])\n",
        "print('')\n",
        "print(mat)\n",
        "print('')\n",
        "print(mat.T)"
      ],
      "execution_count": 3,
      "outputs": [
        {
          "output_type": "stream",
          "text": [
            "[1 2 3]\n",
            "\n",
            "[[1 2 1]\n",
            " [4 5 9]\n",
            " [1 8 9]]\n",
            "\n",
            "[[1 4 1]\n",
            " [2 5 8]\n",
            " [1 9 9]]\n"
          ],
          "name": "stdout"
        }
      ]
    },
    {
      "cell_type": "code",
      "metadata": {
        "id": "Yc545K4qhVaD",
        "outputId": "5ce71755-0000-4d3e-f994-8e74206ef48a",
        "colab": {
          "base_uri": "https://localhost:8080/",
          "height": 67
        }
      },
      "source": [
        "# there are lots of other ways to create numpy arrays\n",
        "vec2 = np.arange(0,15)\n",
        "print(vec2)\n",
        "print('')\n",
        "vec3 = np.arange(3,21,6)\n",
        "print(vec3)\n"
      ],
      "execution_count": 4,
      "outputs": [
        {
          "output_type": "stream",
          "text": [
            "[ 0  1  2  3  4  5  6  7  8  9 10 11 12 13 14]\n",
            "\n",
            "[ 3  9 15]\n"
          ],
          "name": "stdout"
        }
      ]
    },
    {
      "cell_type": "code",
      "metadata": {
        "id": "2qsFG4EuhVaH",
        "outputId": "f8207a32-4e3b-4e92-ac64-5a52beab6fbc",
        "colab": {
          "base_uri": "https://localhost:8080/",
          "height": 269
        }
      },
      "source": [
        "\n",
        "vec4 = np.linspace(0,5,10)\n",
        "print(vec4)\n",
        "print('')\n",
        "print(vec4.reshape(5,2))\n",
        "vec4_reshaped = vec4.reshape(5,2)\n",
        "print(vec4_reshaped)\n",
        "print(vec4)"
      ],
      "execution_count": 5,
      "outputs": [
        {
          "output_type": "stream",
          "text": [
            "[0.         0.55555556 1.11111111 1.66666667 2.22222222 2.77777778\n",
            " 3.33333333 3.88888889 4.44444444 5.        ]\n",
            "\n",
            "[[0.         0.55555556]\n",
            " [1.11111111 1.66666667]\n",
            " [2.22222222 2.77777778]\n",
            " [3.33333333 3.88888889]\n",
            " [4.44444444 5.        ]]\n",
            "[[0.         0.55555556]\n",
            " [1.11111111 1.66666667]\n",
            " [2.22222222 2.77777778]\n",
            " [3.33333333 3.88888889]\n",
            " [4.44444444 5.        ]]\n",
            "[0.         0.55555556 1.11111111 1.66666667 2.22222222 2.77777778\n",
            " 3.33333333 3.88888889 4.44444444 5.        ]\n"
          ],
          "name": "stdout"
        }
      ]
    },
    {
      "cell_type": "code",
      "metadata": {
        "id": "qjMEZqELhVaL",
        "outputId": "702a68c5-ce24-4edd-e7c7-1280752bd2cb",
        "colab": {
          "base_uri": "https://localhost:8080/",
          "height": 269
        }
      },
      "source": [
        "mat2 = np.zeros([5,3])\n",
        "print(mat2)\n",
        "mat3 = np.ones((3,5))\n",
        "print('')\n",
        "print(mat3)\n",
        "mat4 = np.eye(5)\n",
        "print('')\n",
        "print(mat4)"
      ],
      "execution_count": 6,
      "outputs": [
        {
          "output_type": "stream",
          "text": [
            "[[0. 0. 0.]\n",
            " [0. 0. 0.]\n",
            " [0. 0. 0.]\n",
            " [0. 0. 0.]\n",
            " [0. 0. 0.]]\n",
            "\n",
            "[[1. 1. 1. 1. 1.]\n",
            " [1. 1. 1. 1. 1.]\n",
            " [1. 1. 1. 1. 1.]]\n",
            "\n",
            "[[1. 0. 0. 0. 0.]\n",
            " [0. 1. 0. 0. 0.]\n",
            " [0. 0. 1. 0. 0.]\n",
            " [0. 0. 0. 1. 0.]\n",
            " [0. 0. 0. 0. 1.]]\n"
          ],
          "name": "stdout"
        }
      ]
    },
    {
      "cell_type": "code",
      "metadata": {
        "id": "21u2kD3ihVaO",
        "outputId": "0ec989fc-d040-48fd-c243-f3d745e2d245",
        "colab": {
          "base_uri": "https://localhost:8080/",
          "height": 118
        }
      },
      "source": [
        "# we can +-*/ arrays together if they're the right size\n",
        "vec5 = np.arange(1,6)\n",
        "vec6 = np.arange(3,8)\n",
        "print(vec5)\n",
        "print(vec6)\n",
        "print(vec5+vec6)\n",
        "print(vec5*vec6)\n",
        "print(1/vec5)\n",
        "print(np.sqrt(vec6))"
      ],
      "execution_count": 7,
      "outputs": [
        {
          "output_type": "stream",
          "text": [
            "[1 2 3 4 5]\n",
            "[3 4 5 6 7]\n",
            "[ 4  6  8 10 12]\n",
            "[ 3  8 15 24 35]\n",
            "[1.         0.5        0.33333333 0.25       0.2       ]\n",
            "[1.73205081 2.         2.23606798 2.44948974 2.64575131]\n"
          ],
          "name": "stdout"
        }
      ]
    },
    {
      "cell_type": "code",
      "metadata": {
        "id": "pRRGEX8VhVaT",
        "outputId": "4e038f24-284a-45f2-93db-47acda1a5e04",
        "colab": {
          "base_uri": "https://localhost:8080/",
          "height": 134
        }
      },
      "source": [
        "# we can do matrix multiplication\n",
        "print(mat)\n",
        "print('')\n",
        "print(vec)\n",
        "print()\n",
        "product = np.matmul(mat,vec)\n",
        "print(product)"
      ],
      "execution_count": 8,
      "outputs": [
        {
          "output_type": "stream",
          "text": [
            "[[1 2 1]\n",
            " [4 5 9]\n",
            " [1 8 9]]\n",
            "\n",
            "[1 2 3]\n",
            "\n",
            "[ 8 41 44]\n"
          ],
          "name": "stdout"
        }
      ]
    },
    {
      "cell_type": "code",
      "metadata": {
        "id": "rkadrQYkhVaX",
        "outputId": "fee3bdef-58ce-4b3b-9f8d-28548666ba1f",
        "colab": {
          "base_uri": "https://localhost:8080/",
          "height": 101
        }
      },
      "source": [
        "print(np.linalg.solve(mat,product))\n",
        "print('')\n",
        "print(np.linalg.inv(mat))"
      ],
      "execution_count": 9,
      "outputs": [
        {
          "output_type": "stream",
          "text": [
            "[1. 2. 3.]\n",
            "\n",
            "[[ 0.5         0.18518519 -0.24074074]\n",
            " [ 0.5        -0.14814815  0.09259259]\n",
            " [-0.5         0.11111111  0.05555556]]\n"
          ],
          "name": "stdout"
        }
      ]
    },
    {
      "cell_type": "code",
      "metadata": {
        "id": "L01NgfC_hVac",
        "outputId": "0a62ade4-2b03-451a-a7bc-f74b8f3f630a",
        "colab": {
          "base_uri": "https://localhost:8080/",
          "height": 50
        }
      },
      "source": [
        "# we can find the unique values in an array\n",
        "vec7 = np.array(['blue','red','orange','purple','purple','orange','Red',6])\n",
        "print(vec7)\n",
        "print(np.unique(vec7))"
      ],
      "execution_count": 10,
      "outputs": [
        {
          "output_type": "stream",
          "text": [
            "['blue' 'red' 'orange' 'purple' 'purple' 'orange' 'Red' '6']\n",
            "['6' 'Red' 'blue' 'orange' 'purple' 'red']\n"
          ],
          "name": "stdout"
        }
      ]
    },
    {
      "cell_type": "code",
      "metadata": {
        "id": "qcOZgFtthVag",
        "outputId": "05efdd5a-a478-47fc-dec3-355dc46732b2",
        "colab": {
          "base_uri": "https://localhost:8080/",
          "height": 286
        }
      },
      "source": [
        "# we can also use numpy to generate samples of a random variable\n",
        "rand_mat = np.random.rand(5,5) # uniform random variable\n",
        "print(rand_mat)\n",
        "rand_mat2 = np.random.randn(10,5) # standard normal random variable\n",
        "print('')\n",
        "print(rand_mat2)"
      ],
      "execution_count": 11,
      "outputs": [
        {
          "output_type": "stream",
          "text": [
            "[[0.26444795 0.6868216  0.97482173 0.14970822 0.69223884]\n",
            " [0.16023564 0.34884671 0.64581298 0.56201397 0.75494725]\n",
            " [0.72735263 0.55435416 0.09251479 0.9290206  0.64481947]\n",
            " [0.60204285 0.94020065 0.82126358 0.22248507 0.06889726]\n",
            " [0.38965403 0.30184597 0.78124192 0.59966469 0.11418677]]\n",
            "\n",
            "[[-0.17364138 -0.11827747 -0.25826098  1.71268791  1.51928472]\n",
            " [-2.68142249  1.89616675 -0.07839     0.46683223 -1.06437367]\n",
            " [-1.07051572  1.36859431  0.41699407 -0.95806949 -1.07192318]\n",
            " [-0.11430526 -0.9441899   1.79744105  0.90792589 -1.14324209]\n",
            " [ 0.19741425  1.25913387  0.41646517 -3.19269628  0.52075002]\n",
            " [ 0.29895703 -0.22432396 -0.16213836 -0.9062974  -0.54682111]\n",
            " [ 0.9359519   1.43785123 -1.1800006   0.26371522 -0.44782672]\n",
            " [-0.06175061 -0.65728136  0.04175783  1.19133012 -0.86755307]\n",
            " [ 0.72329624  0.93495623 -0.16233756 -1.00966776 -0.8491883 ]\n",
            " [ 0.46177537  0.74824855 -1.1727614   1.35300013  0.20333378]]\n"
          ],
          "name": "stdout"
        }
      ]
    },
    {
      "cell_type": "code",
      "metadata": {
        "id": "F1PMdJ72hVak",
        "outputId": "0d1bf3ac-b3c2-4fdb-a297-1d6752e9eb65",
        "colab": {
          "base_uri": "https://localhost:8080/",
          "height": 50
        }
      },
      "source": [
        "# we can also use numpy for statistical tools on arrays\n",
        "print(np.mean(rand_mat))\n",
        "print(np.std(rand_mat2))"
      ],
      "execution_count": 12,
      "outputs": [
        {
          "output_type": "stream",
          "text": [
            "0.5211775728805987\n",
            "1.0674273670517986\n"
          ],
          "name": "stdout"
        }
      ]
    },
    {
      "cell_type": "code",
      "metadata": {
        "id": "YfJX2CrwhVap",
        "outputId": "88e2991a-9bd4-4e12-8095-cbc95a55c9c6",
        "colab": {
          "base_uri": "https://localhost:8080/",
          "height": 50
        }
      },
      "source": [
        "print(np.min(rand_mat))\n",
        "print(np.max(rand_mat2))"
      ],
      "execution_count": 13,
      "outputs": [
        {
          "output_type": "stream",
          "text": [
            "0.06889725524185852\n",
            "1.8961667483253417\n"
          ],
          "name": "stdout"
        }
      ]
    },
    {
      "cell_type": "code",
      "metadata": {
        "id": "h8hjeRA4hVat",
        "outputId": "3f7ccbc7-964d-4bab-9f56-509ce35a31c8",
        "colab": {
          "base_uri": "https://localhost:8080/",
          "height": 101
        }
      },
      "source": [
        "# how do we access entries in a numpy vector\n",
        "rand_vec = np.random.randn(19)\n",
        "print(rand_vec)\n",
        "print(rand_vec[6])"
      ],
      "execution_count": 14,
      "outputs": [
        {
          "output_type": "stream",
          "text": [
            "[-0.76762256  1.98414842  0.03073746 -1.1008575  -1.08084312 -0.1873871\n",
            " -0.40121058 -1.02997913 -0.21413962 -0.28860773 -1.08960686 -0.31741235\n",
            "  0.7972079  -2.83538337 -0.30232566  0.71685663 -0.79302148  0.3455064\n",
            " -0.25879522]\n",
            "-0.40121057771083546\n"
          ],
          "name": "stdout"
        }
      ]
    },
    {
      "cell_type": "code",
      "metadata": {
        "id": "zlIcVlWAhVaw",
        "outputId": "dc67a970-4058-4125-bc51-93fb5d5518db",
        "colab": {
          "base_uri": "https://localhost:8080/",
          "height": 34
        }
      },
      "source": [
        "# we can access multiple entries at once using :\n",
        "print(rand_vec[4:9])"
      ],
      "execution_count": 15,
      "outputs": [
        {
          "output_type": "stream",
          "text": [
            "[-1.08084312 -0.1873871  -0.40121058 -1.02997913 -0.21413962]\n"
          ],
          "name": "stdout"
        }
      ]
    },
    {
      "cell_type": "code",
      "metadata": {
        "id": "fii3JDK3hVay",
        "outputId": "6aae52bf-2035-4c23-84d6-1ef7c7a6cb3e",
        "colab": {
          "base_uri": "https://localhost:8080/",
          "height": 50
        }
      },
      "source": [
        "# we can also access multiple non-consecutive entries using np.arange\n",
        "print(np.arange(0,15,3))\n",
        "print(rand_vec[np.arange(0,15,3)])"
      ],
      "execution_count": 16,
      "outputs": [
        {
          "output_type": "stream",
          "text": [
            "[ 0  3  6  9 12]\n",
            "[-0.76762256 -1.1008575  -0.40121058 -0.28860773  0.7972079 ]\n"
          ],
          "name": "stdout"
        }
      ]
    },
    {
      "cell_type": "code",
      "metadata": {
        "id": "Z5e01yF2hVa1",
        "outputId": "771458c0-0e47-4a16-ef6c-9ddd18254e26",
        "colab": {
          "base_uri": "https://localhost:8080/",
          "height": 134
        }
      },
      "source": [
        "# what about matrices\n",
        "print(rand_mat)\n",
        "print(rand_mat[1][2])\n",
        "print(rand_mat[1,2])\n"
      ],
      "execution_count": 17,
      "outputs": [
        {
          "output_type": "stream",
          "text": [
            "[[0.26444795 0.6868216  0.97482173 0.14970822 0.69223884]\n",
            " [0.16023564 0.34884671 0.64581298 0.56201397 0.75494725]\n",
            " [0.72735263 0.55435416 0.09251479 0.9290206  0.64481947]\n",
            " [0.60204285 0.94020065 0.82126358 0.22248507 0.06889726]\n",
            " [0.38965403 0.30184597 0.78124192 0.59966469 0.11418677]]\n",
            "0.6458129812282398\n",
            "0.6458129812282398\n"
          ],
          "name": "stdout"
        }
      ]
    },
    {
      "cell_type": "code",
      "metadata": {
        "id": "xMIWOf54hVa5",
        "outputId": "9e528db8-18ba-4042-dd6a-da2fd9a709c4",
        "colab": {
          "base_uri": "https://localhost:8080/",
          "height": 50
        }
      },
      "source": [
        "print(rand_mat[0:2,1:3])"
      ],
      "execution_count": 18,
      "outputs": [
        {
          "output_type": "stream",
          "text": [
            "[[0.6868216  0.97482173]\n",
            " [0.34884671 0.64581298]]\n"
          ],
          "name": "stdout"
        }
      ]
    },
    {
      "cell_type": "code",
      "metadata": {
        "id": "MMMJj2RPhVa9",
        "outputId": "95929874-06b8-44e9-b22b-05aa5e89613f",
        "colab": {
          "base_uri": "https://localhost:8080/",
          "height": 252
        }
      },
      "source": [
        "# let's change some values in an array!\n",
        "print(rand_vec)\n",
        "rand_vec[3:5] = 4\n",
        "print('')\n",
        "print(rand_vec)\n",
        "rand_vec[3:5] = [1,2]\n",
        "print('')\n",
        "print(rand_vec)"
      ],
      "execution_count": 19,
      "outputs": [
        {
          "output_type": "stream",
          "text": [
            "[-0.76762256  1.98414842  0.03073746 -1.1008575  -1.08084312 -0.1873871\n",
            " -0.40121058 -1.02997913 -0.21413962 -0.28860773 -1.08960686 -0.31741235\n",
            "  0.7972079  -2.83538337 -0.30232566  0.71685663 -0.79302148  0.3455064\n",
            " -0.25879522]\n",
            "\n",
            "[-0.76762256  1.98414842  0.03073746  4.          4.         -0.1873871\n",
            " -0.40121058 -1.02997913 -0.21413962 -0.28860773 -1.08960686 -0.31741235\n",
            "  0.7972079  -2.83538337 -0.30232566  0.71685663 -0.79302148  0.3455064\n",
            " -0.25879522]\n",
            "\n",
            "[-0.76762256  1.98414842  0.03073746  1.          2.         -0.1873871\n",
            " -0.40121058 -1.02997913 -0.21413962 -0.28860773 -1.08960686 -0.31741235\n",
            "  0.7972079  -2.83538337 -0.30232566  0.71685663 -0.79302148  0.3455064\n",
            " -0.25879522]\n"
          ],
          "name": "stdout"
        }
      ]
    },
    {
      "cell_type": "code",
      "metadata": {
        "id": "PescChTmhVa_",
        "outputId": "5283d16b-2210-4618-cabb-7a0dbb06d57e",
        "colab": {
          "base_uri": "https://localhost:8080/",
          "height": 202
        }
      },
      "source": [
        "print(rand_mat)\n",
        "rand_mat[1:3,3:5] = 0\n",
        "print('')\n",
        "print(rand_mat)"
      ],
      "execution_count": 20,
      "outputs": [
        {
          "output_type": "stream",
          "text": [
            "[[0.26444795 0.6868216  0.97482173 0.14970822 0.69223884]\n",
            " [0.16023564 0.34884671 0.64581298 0.56201397 0.75494725]\n",
            " [0.72735263 0.55435416 0.09251479 0.9290206  0.64481947]\n",
            " [0.60204285 0.94020065 0.82126358 0.22248507 0.06889726]\n",
            " [0.38965403 0.30184597 0.78124192 0.59966469 0.11418677]]\n",
            "\n",
            "[[0.26444795 0.6868216  0.97482173 0.14970822 0.69223884]\n",
            " [0.16023564 0.34884671 0.64581298 0.         0.        ]\n",
            " [0.72735263 0.55435416 0.09251479 0.         0.        ]\n",
            " [0.60204285 0.94020065 0.82126358 0.22248507 0.06889726]\n",
            " [0.38965403 0.30184597 0.78124192 0.59966469 0.11418677]]\n"
          ],
          "name": "stdout"
        }
      ]
    },
    {
      "cell_type": "code",
      "metadata": {
        "id": "3u30RbNrhVbC",
        "outputId": "887c2a4f-042b-423c-8231-7ae21c5a8cde",
        "colab": {
          "base_uri": "https://localhost:8080/",
          "height": 84
        }
      },
      "source": [
        "sub_mat = rand_mat[0:2,0:3]\n",
        "print(sub_mat)\n",
        "sub_mat[:] = 3\n",
        "print(sub_mat)\n"
      ],
      "execution_count": 21,
      "outputs": [
        {
          "output_type": "stream",
          "text": [
            "[[0.26444795 0.6868216  0.97482173]\n",
            " [0.16023564 0.34884671 0.64581298]]\n",
            "[[3. 3. 3.]\n",
            " [3. 3. 3.]]\n"
          ],
          "name": "stdout"
        }
      ]
    },
    {
      "cell_type": "code",
      "metadata": {
        "id": "34-paeVLhVbE",
        "outputId": "daaddc0b-e029-4d6c-b9b0-5ccd97689c87",
        "colab": {
          "base_uri": "https://localhost:8080/",
          "height": 101
        }
      },
      "source": [
        "print(rand_mat)"
      ],
      "execution_count": 22,
      "outputs": [
        {
          "output_type": "stream",
          "text": [
            "[[3.         3.         3.         0.14970822 0.69223884]\n",
            " [3.         3.         3.         0.         0.        ]\n",
            " [0.72735263 0.55435416 0.09251479 0.         0.        ]\n",
            " [0.60204285 0.94020065 0.82126358 0.22248507 0.06889726]\n",
            " [0.38965403 0.30184597 0.78124192 0.59966469 0.11418677]]\n"
          ],
          "name": "stdout"
        }
      ]
    },
    {
      "cell_type": "code",
      "metadata": {
        "id": "uGQQ4oAwhVbG",
        "outputId": "c7de5352-da99-4d26-e4bd-701e99c45a6f",
        "colab": {
          "base_uri": "https://localhost:8080/",
          "height": 134
        }
      },
      "source": [
        "sub_mat2 = rand_mat[0:2,0:3].copy()\n",
        "sub_mat2[:] = 99\n",
        "print(sub_mat2)\n",
        "print(rand_mat)\n"
      ],
      "execution_count": 23,
      "outputs": [
        {
          "output_type": "stream",
          "text": [
            "[[99. 99. 99.]\n",
            " [99. 99. 99.]]\n",
            "[[3.         3.         3.         0.14970822 0.69223884]\n",
            " [3.         3.         3.         0.         0.        ]\n",
            " [0.72735263 0.55435416 0.09251479 0.         0.        ]\n",
            " [0.60204285 0.94020065 0.82126358 0.22248507 0.06889726]\n",
            " [0.38965403 0.30184597 0.78124192 0.59966469 0.11418677]]\n"
          ],
          "name": "stdout"
        }
      ]
    },
    {
      "cell_type": "code",
      "metadata": {
        "id": "rl-0UWsrhVbR",
        "outputId": "0561c13d-220a-40b1-e37c-865ec320628d",
        "colab": {
          "base_uri": "https://localhost:8080/",
          "height": 118
        }
      },
      "source": [
        "# we can also access entries with logicals\n",
        "rand_vec = np.random.randn(15)\n",
        "\n",
        "print(rand_vec)\n",
        "print(rand_vec>0)\n",
        "print(rand_vec[rand_vec>0])"
      ],
      "execution_count": 24,
      "outputs": [
        {
          "output_type": "stream",
          "text": [
            "[-0.99445681 -0.79826557 -0.33151992 -1.40894891 -0.58151869  0.58499501\n",
            "  0.22335285  1.39991212 -1.96305497  0.77802893 -0.0303269  -0.80652113\n",
            " -0.26139072 -0.71536139 -0.13783545]\n",
            "[False False False False False  True  True  True False  True False False\n",
            " False False False]\n",
            "[0.58499501 0.22335285 1.39991212 0.77802893]\n"
          ],
          "name": "stdout"
        }
      ]
    },
    {
      "cell_type": "code",
      "metadata": {
        "id": "1D_TutTlhVbV",
        "outputId": "9fb61f11-0afd-40f6-fad2-468aeaf6d450",
        "colab": {
          "base_uri": "https://localhost:8080/",
          "height": 252
        }
      },
      "source": [
        "print(rand_mat2)\n",
        "print(rand_mat2[rand_mat2>0])"
      ],
      "execution_count": 25,
      "outputs": [
        {
          "output_type": "stream",
          "text": [
            "[[-0.17364138 -0.11827747 -0.25826098  1.71268791  1.51928472]\n",
            " [-2.68142249  1.89616675 -0.07839     0.46683223 -1.06437367]\n",
            " [-1.07051572  1.36859431  0.41699407 -0.95806949 -1.07192318]\n",
            " [-0.11430526 -0.9441899   1.79744105  0.90792589 -1.14324209]\n",
            " [ 0.19741425  1.25913387  0.41646517 -3.19269628  0.52075002]\n",
            " [ 0.29895703 -0.22432396 -0.16213836 -0.9062974  -0.54682111]\n",
            " [ 0.9359519   1.43785123 -1.1800006   0.26371522 -0.44782672]\n",
            " [-0.06175061 -0.65728136  0.04175783  1.19133012 -0.86755307]\n",
            " [ 0.72329624  0.93495623 -0.16233756 -1.00966776 -0.8491883 ]\n",
            " [ 0.46177537  0.74824855 -1.1727614   1.35300013  0.20333378]]\n",
            "[1.71268791 1.51928472 1.89616675 0.46683223 1.36859431 0.41699407\n",
            " 1.79744105 0.90792589 0.19741425 1.25913387 0.41646517 0.52075002\n",
            " 0.29895703 0.9359519  1.43785123 0.26371522 0.04175783 1.19133012\n",
            " 0.72329624 0.93495623 0.46177537 0.74824855 1.35300013 0.20333378]\n"
          ],
          "name": "stdout"
        }
      ]
    },
    {
      "cell_type": "code",
      "metadata": {
        "id": "r5zLxFHlhVbZ",
        "outputId": "cadb50c5-653e-41a5-e367-0a10b28e932e",
        "colab": {
          "base_uri": "https://localhost:8080/",
          "height": 134
        }
      },
      "source": [
        "\n",
        "print(rand_vec)\n",
        "print('')\n",
        "rand_vec[rand_vec>0.5] = -5\n",
        "print(rand_vec)"
      ],
      "execution_count": 26,
      "outputs": [
        {
          "output_type": "stream",
          "text": [
            "[-0.99445681 -0.79826557 -0.33151992 -1.40894891 -0.58151869  0.58499501\n",
            "  0.22335285  1.39991212 -1.96305497  0.77802893 -0.0303269  -0.80652113\n",
            " -0.26139072 -0.71536139 -0.13783545]\n",
            "\n",
            "[-0.99445681 -0.79826557 -0.33151992 -1.40894891 -0.58151869 -5.\n",
            "  0.22335285 -5.         -1.96305497 -5.         -0.0303269  -0.80652113\n",
            " -0.26139072 -0.71536139 -0.13783545]\n"
          ],
          "name": "stdout"
        }
      ]
    },
    {
      "cell_type": "code",
      "metadata": {
        "id": "T-6o-bO0hVbc"
      },
      "source": [
        "# let's save some arrays on the disk for use later!\n",
        "np.save('saved_file_name',rand_mat2)\n"
      ],
      "execution_count": 27,
      "outputs": []
    },
    {
      "cell_type": "code",
      "metadata": {
        "id": "kUYuqTfQhVbe"
      },
      "source": [
        "np.savez('zipped_file_name',rand_mat=rand_mat,rand_mat2=rand_mat2)"
      ],
      "execution_count": 28,
      "outputs": []
    },
    {
      "cell_type": "code",
      "metadata": {
        "id": "HeqE5dljhVbi",
        "outputId": "0258842b-ccd8-47bd-a8e7-de6e386f2eae",
        "colab": {
          "base_uri": "https://localhost:8080/",
          "height": 218
        }
      },
      "source": [
        "# now let's load it\n",
        "loaded_vec = np.load('saved_file_name.npy')\n",
        "loaded_zip = np.load('zipped_file_name.npz')\n",
        "\n",
        "print(loaded_vec)\n",
        "print('')\n",
        "print(loaded_zip)"
      ],
      "execution_count": 29,
      "outputs": [
        {
          "output_type": "stream",
          "text": [
            "[[-0.17364138 -0.11827747 -0.25826098  1.71268791  1.51928472]\n",
            " [-2.68142249  1.89616675 -0.07839     0.46683223 -1.06437367]\n",
            " [-1.07051572  1.36859431  0.41699407 -0.95806949 -1.07192318]\n",
            " [-0.11430526 -0.9441899   1.79744105  0.90792589 -1.14324209]\n",
            " [ 0.19741425  1.25913387  0.41646517 -3.19269628  0.52075002]\n",
            " [ 0.29895703 -0.22432396 -0.16213836 -0.9062974  -0.54682111]\n",
            " [ 0.9359519   1.43785123 -1.1800006   0.26371522 -0.44782672]\n",
            " [-0.06175061 -0.65728136  0.04175783  1.19133012 -0.86755307]\n",
            " [ 0.72329624  0.93495623 -0.16233756 -1.00966776 -0.8491883 ]\n",
            " [ 0.46177537  0.74824855 -1.1727614   1.35300013  0.20333378]]\n",
            "\n",
            "<numpy.lib.npyio.NpzFile object at 0x7fbc8f09f898>\n"
          ],
          "name": "stdout"
        }
      ]
    },
    {
      "cell_type": "code",
      "metadata": {
        "id": "BJJKBfO0hVbl",
        "outputId": "f4fdc2c0-7cbf-41a5-a2cb-6c648e5f901d",
        "colab": {
          "base_uri": "https://localhost:8080/",
          "height": 370
        }
      },
      "source": [
        "print(loaded_zip['rand_mat'])\n",
        "print('')\n",
        "print(loaded_zip['rand_mat2'])\n",
        "\n",
        "new_array  = loaded_zip['rand_mat']\n",
        "print(new_array)"
      ],
      "execution_count": 30,
      "outputs": [
        {
          "output_type": "stream",
          "text": [
            "[[3.         3.         3.         0.14970822 0.69223884]\n",
            " [3.         3.         3.         0.         0.        ]\n",
            " [0.72735263 0.55435416 0.09251479 0.         0.        ]\n",
            " [0.60204285 0.94020065 0.82126358 0.22248507 0.06889726]\n",
            " [0.38965403 0.30184597 0.78124192 0.59966469 0.11418677]]\n",
            "\n",
            "[[-0.17364138 -0.11827747 -0.25826098  1.71268791  1.51928472]\n",
            " [-2.68142249  1.89616675 -0.07839     0.46683223 -1.06437367]\n",
            " [-1.07051572  1.36859431  0.41699407 -0.95806949 -1.07192318]\n",
            " [-0.11430526 -0.9441899   1.79744105  0.90792589 -1.14324209]\n",
            " [ 0.19741425  1.25913387  0.41646517 -3.19269628  0.52075002]\n",
            " [ 0.29895703 -0.22432396 -0.16213836 -0.9062974  -0.54682111]\n",
            " [ 0.9359519   1.43785123 -1.1800006   0.26371522 -0.44782672]\n",
            " [-0.06175061 -0.65728136  0.04175783  1.19133012 -0.86755307]\n",
            " [ 0.72329624  0.93495623 -0.16233756 -1.00966776 -0.8491883 ]\n",
            " [ 0.46177537  0.74824855 -1.1727614   1.35300013  0.20333378]]\n",
            "[[3.         3.         3.         0.14970822 0.69223884]\n",
            " [3.         3.         3.         0.         0.        ]\n",
            " [0.72735263 0.55435416 0.09251479 0.         0.        ]\n",
            " [0.60204285 0.94020065 0.82126358 0.22248507 0.06889726]\n",
            " [0.38965403 0.30184597 0.78124192 0.59966469 0.11418677]]\n"
          ],
          "name": "stdout"
        }
      ]
    },
    {
      "cell_type": "code",
      "metadata": {
        "id": "I8u71IIdhVbn",
        "outputId": "34fbe8f1-d3eb-4c2e-f431-616ac9894a7c",
        "colab": {
          "base_uri": "https://localhost:8080/",
          "height": 202
        }
      },
      "source": [
        "# we can also save/load as text files...but only single variables\n",
        "np.savetxt('text_file_name.txt',rand_mat,delimiter=',')\n",
        "rand_mat_txt = np.loadtxt('text_file_name.txt',delimiter=',')\n",
        "print(rand_mat)\n",
        "print('')\n",
        "print(rand_mat_txt)"
      ],
      "execution_count": 31,
      "outputs": [
        {
          "output_type": "stream",
          "text": [
            "[[3.         3.         3.         0.14970822 0.69223884]\n",
            " [3.         3.         3.         0.         0.        ]\n",
            " [0.72735263 0.55435416 0.09251479 0.         0.        ]\n",
            " [0.60204285 0.94020065 0.82126358 0.22248507 0.06889726]\n",
            " [0.38965403 0.30184597 0.78124192 0.59966469 0.11418677]]\n",
            "\n",
            "[[3.         3.         3.         0.14970822 0.69223884]\n",
            " [3.         3.         3.         0.         0.        ]\n",
            " [0.72735263 0.55435416 0.09251479 0.         0.        ]\n",
            " [0.60204285 0.94020065 0.82126358 0.22248507 0.06889726]\n",
            " [0.38965403 0.30184597 0.78124192 0.59966469 0.11418677]]\n"
          ],
          "name": "stdout"
        }
      ]
    },
    {
      "cell_type": "code",
      "metadata": {
        "id": "qdMs3jiVhVbq"
      },
      "source": [
        ""
      ],
      "execution_count": 31,
      "outputs": []
    }
  ]
}