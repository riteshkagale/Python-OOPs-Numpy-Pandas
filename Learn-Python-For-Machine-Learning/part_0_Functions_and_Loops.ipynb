{
  "nbformat": 4,
  "nbformat_minor": 0,
  "metadata": {
    "kernelspec": {
      "display_name": "Python 3",
      "language": "python",
      "name": "python3"
    },
    "language_info": {
      "codemirror_mode": {
        "name": "ipython",
        "version": 3
      },
      "file_extension": ".py",
      "mimetype": "text/x-python",
      "name": "python",
      "nbconvert_exporter": "python",
      "pygments_lexer": "ipython3",
      "version": "3.7.3"
    },
    "colab": {
      "name": "part_0_Functions_and_Loops.ipynb",
      "provenance": []
    }
  },
  "cells": [
    {
      "cell_type": "markdown",
      "metadata": {
        "id": "hfyHg4oR5ulY"
      },
      "source": [
        "##  Defining Functions"
      ]
    },
    {
      "cell_type": "markdown",
      "metadata": {
        "id": "9IHywU4A5ulZ"
      },
      "source": [
        "**Define a function with no arguments and no return values:**"
      ]
    },
    {
      "cell_type": "code",
      "metadata": {
        "id": "I46yUqwH5ulc"
      },
      "source": [
        "def print_text():\n",
        "    print('this is text')"
      ],
      "execution_count": 1,
      "outputs": []
    },
    {
      "cell_type": "code",
      "metadata": {
        "id": "4fpv73IQ5ulh",
        "outputId": "324bd405-ed3a-4c55-9b07-2c146a4787b4",
        "colab": {
          "base_uri": "https://localhost:8080/",
          "height": 34
        }
      },
      "source": [
        "# call the function\n",
        "print_text()"
      ],
      "execution_count": 2,
      "outputs": [
        {
          "output_type": "stream",
          "text": [
            "this is text\n"
          ],
          "name": "stdout"
        }
      ]
    },
    {
      "cell_type": "markdown",
      "metadata": {
        "id": "IVbCvwjn5ull"
      },
      "source": [
        "**Define a function with one argument and no return values:**"
      ]
    },
    {
      "cell_type": "code",
      "metadata": {
        "id": "qkU7dMo55ull"
      },
      "source": [
        "def print_this(x):\n",
        "    print(x)"
      ],
      "execution_count": 3,
      "outputs": []
    },
    {
      "cell_type": "code",
      "metadata": {
        "id": "p-YiGua45ulo",
        "outputId": "c9387455-9739-4af8-c169-5306f7c4bad6",
        "colab": {
          "base_uri": "https://localhost:8080/",
          "height": 34
        }
      },
      "source": [
        "# call the function\n",
        "print_this(3)"
      ],
      "execution_count": 4,
      "outputs": [
        {
          "output_type": "stream",
          "text": [
            "3\n"
          ],
          "name": "stdout"
        }
      ]
    },
    {
      "cell_type": "code",
      "metadata": {
        "id": "T5-247FY5ulp",
        "outputId": "f3bc231a-c190-46c4-cc0d-e879dcf68cd5",
        "colab": {
          "base_uri": "https://localhost:8080/",
          "height": 34
        }
      },
      "source": [
        "# prints 3, but doesn't assign 3 to n because the function has no return statement\n",
        "n = print_this(3)"
      ],
      "execution_count": 5,
      "outputs": [
        {
          "output_type": "stream",
          "text": [
            "3\n"
          ],
          "name": "stdout"
        }
      ]
    },
    {
      "cell_type": "markdown",
      "metadata": {
        "id": "gQcMucz15ulw"
      },
      "source": [
        "**Define a function with one argument and one return value:**"
      ]
    },
    {
      "cell_type": "code",
      "metadata": {
        "id": "THEMBmXI5ulx",
        "outputId": "1b04ddc2-67ec-40b6-e172-17c935a74dcd",
        "colab": {
          "base_uri": "https://localhost:8080/",
          "height": 34
        }
      },
      "source": [
        "def square_this(x):\n",
        "    return x**2\n",
        "square_this(5)"
      ],
      "execution_count": 6,
      "outputs": [
        {
          "output_type": "execute_result",
          "data": {
            "text/plain": [
              "25"
            ]
          },
          "metadata": {
            "tags": []
          },
          "execution_count": 6
        }
      ]
    },
    {
      "cell_type": "code",
      "metadata": {
        "id": "ivPPcHU65ul0",
        "outputId": "f251b89b-7b17-4905-96ab-7d5a1760fa58",
        "colab": {
          "base_uri": "https://localhost:8080/",
          "height": 34
        }
      },
      "source": [
        "# include an optional docstring to describe the effect of a function\n",
        "def square_this(x):\n",
        "    \"\"\"Return the square of a number.\"\"\"\n",
        "    return x**2\n",
        "print(square_this.__doc__)    # .__doc__  returns the docstring"
      ],
      "execution_count": 7,
      "outputs": [
        {
          "output_type": "stream",
          "text": [
            "Return the square of a number.\n"
          ],
          "name": "stdout"
        }
      ]
    },
    {
      "cell_type": "code",
      "metadata": {
        "id": "ZzsACe1f5ul3",
        "outputId": "68f2ba5e-d5de-4bb0-cf4e-85ab459e3a15",
        "colab": {
          "base_uri": "https://localhost:8080/",
          "height": 34
        }
      },
      "source": [
        "# call the function\n",
        "square_this(3)"
      ],
      "execution_count": 8,
      "outputs": [
        {
          "output_type": "execute_result",
          "data": {
            "text/plain": [
              "9"
            ]
          },
          "metadata": {
            "tags": []
          },
          "execution_count": 8
        }
      ]
    },
    {
      "cell_type": "code",
      "metadata": {
        "id": "n2EQGPp25ul5"
      },
      "source": [
        "# assigns 9 to var, but does not print 9\n",
        "var = square_this(3)"
      ],
      "execution_count": 9,
      "outputs": []
    },
    {
      "cell_type": "markdown",
      "metadata": {
        "id": "amy1PjGP5ul8"
      },
      "source": [
        "**Define a function with two 'positional arguments' (no default values) and one 'keyword argument' (has a default value):**"
      ]
    },
    {
      "cell_type": "code",
      "metadata": {
        "id": "ne0NdmCn5ul9"
      },
      "source": [
        "def calc(a, b, op='add'):\n",
        "    if op == 'add':\n",
        "        return a + b\n",
        "    elif op == 'sub':\n",
        "        return a - b\n",
        "    else:\n",
        "        print('valid operations are add and sub')"
      ],
      "execution_count": 10,
      "outputs": []
    },
    {
      "cell_type": "code",
      "metadata": {
        "id": "Fn1vJPZs5umA",
        "outputId": "36be5f43-2bc6-4768-b8cb-2d0d2fcdfb80",
        "colab": {
          "base_uri": "https://localhost:8080/",
          "height": 34
        }
      },
      "source": [
        "# call the function\n",
        "calc(10, 4, op='add')"
      ],
      "execution_count": 11,
      "outputs": [
        {
          "output_type": "execute_result",
          "data": {
            "text/plain": [
              "14"
            ]
          },
          "metadata": {
            "tags": []
          },
          "execution_count": 11
        }
      ]
    },
    {
      "cell_type": "code",
      "metadata": {
        "id": "MVEKLpzd5umF",
        "outputId": "d461706f-67eb-43c7-91a8-aeee87285095",
        "colab": {
          "base_uri": "https://localhost:8080/",
          "height": 34
        }
      },
      "source": [
        "# unnamed arguments are inferred by position\n",
        "calc(10, 4, 'add')"
      ],
      "execution_count": 12,
      "outputs": [
        {
          "output_type": "execute_result",
          "data": {
            "text/plain": [
              "14"
            ]
          },
          "metadata": {
            "tags": []
          },
          "execution_count": 12
        }
      ]
    },
    {
      "cell_type": "code",
      "metadata": {
        "id": "8UZEA5qg5umI",
        "outputId": "19ba6e01-f9ec-48e3-94b5-d6cd30ed5375",
        "colab": {
          "base_uri": "https://localhost:8080/",
          "height": 34
        }
      },
      "source": [
        "# default for 'op' is 'add'\n",
        "calc(10, 4)"
      ],
      "execution_count": 13,
      "outputs": [
        {
          "output_type": "execute_result",
          "data": {
            "text/plain": [
              "14"
            ]
          },
          "metadata": {
            "tags": []
          },
          "execution_count": 13
        }
      ]
    },
    {
      "cell_type": "code",
      "metadata": {
        "id": "XfEQ2sig5umM",
        "outputId": "cfc49ff7-53ff-422a-9caa-155e68d2c802",
        "colab": {
          "base_uri": "https://localhost:8080/",
          "height": 34
        }
      },
      "source": [
        "calc(10, 4, 'sub')"
      ],
      "execution_count": 14,
      "outputs": [
        {
          "output_type": "execute_result",
          "data": {
            "text/plain": [
              "6"
            ]
          },
          "metadata": {
            "tags": []
          },
          "execution_count": 14
        }
      ]
    },
    {
      "cell_type": "code",
      "metadata": {
        "id": "v4hVuTWf5umP",
        "outputId": "6f734143-cf8b-41c0-e29a-ad7626869a48",
        "colab": {
          "base_uri": "https://localhost:8080/",
          "height": 34
        }
      },
      "source": [
        "calc(10, 4, 'div')"
      ],
      "execution_count": 15,
      "outputs": [
        {
          "output_type": "stream",
          "text": [
            "valid operations are add and sub\n"
          ],
          "name": "stdout"
        }
      ]
    },
    {
      "cell_type": "markdown",
      "metadata": {
        "id": "ub2SyYB55umV"
      },
      "source": [
        "**Use `pass` as a placeholder if you haven't written the function body:**"
      ]
    },
    {
      "cell_type": "code",
      "metadata": {
        "id": "O8qSATkY5umW"
      },
      "source": [
        "def stub():\n",
        "    pass"
      ],
      "execution_count": 16,
      "outputs": []
    },
    {
      "cell_type": "markdown",
      "metadata": {
        "id": "Axi5vjsk5umb"
      },
      "source": [
        "**Return two values from a single function:**"
      ]
    },
    {
      "cell_type": "code",
      "metadata": {
        "id": "el-2-Lk_5umc"
      },
      "source": [
        "def min_max(nums):\n",
        "    return min(nums), max(nums)"
      ],
      "execution_count": 17,
      "outputs": []
    },
    {
      "cell_type": "code",
      "metadata": {
        "id": "WMoqOQs35ume",
        "outputId": "b0a650dd-7209-44e3-ca18-d3e91f3c8ee4",
        "colab": {
          "base_uri": "https://localhost:8080/",
          "height": 34
        }
      },
      "source": [
        "# return values can be assigned to a single variable as a tuple\n",
        "nums = [1, 2, 3]\n",
        "min_max_num = min_max(nums)\n",
        "min_max_num"
      ],
      "execution_count": 18,
      "outputs": [
        {
          "output_type": "execute_result",
          "data": {
            "text/plain": [
              "(1, 3)"
            ]
          },
          "metadata": {
            "tags": []
          },
          "execution_count": 18
        }
      ]
    },
    {
      "cell_type": "code",
      "metadata": {
        "id": "2tXlOKLF5umf",
        "outputId": "11330bae-3f13-437c-8609-284cb2eb950f",
        "colab": {
          "base_uri": "https://localhost:8080/",
          "height": 50
        }
      },
      "source": [
        "# return values can be assigned into multiple variables using tuple unpacking\n",
        "min_num, max_num = min_max(nums)\n",
        "print(min_num)\n",
        "print(max_num)"
      ],
      "execution_count": 19,
      "outputs": [
        {
          "output_type": "stream",
          "text": [
            "1\n",
            "3\n"
          ],
          "name": "stdout"
        }
      ]
    },
    {
      "cell_type": "markdown",
      "metadata": {
        "id": "3eUFi8Xx5umi"
      },
      "source": [
        "## Anonymous (Lambda) Functions\n",
        "\n",
        "- Primarily used to temporarily define a function for use by another function"
      ]
    },
    {
      "cell_type": "code",
      "metadata": {
        "id": "eWwdJ1Nb5umj"
      },
      "source": [
        "# define a function the \"usual\" way\n",
        "def squared(x):\n",
        "    return x**2"
      ],
      "execution_count": 20,
      "outputs": []
    },
    {
      "cell_type": "code",
      "metadata": {
        "id": "DmG4OPz05umk"
      },
      "source": [
        "# define an identical function using lambda\n",
        "squared = lambda x: x**2"
      ],
      "execution_count": 21,
      "outputs": []
    },
    {
      "cell_type": "markdown",
      "metadata": {
        "id": "uyba0p_P5umm"
      },
      "source": [
        "**Sort a list of strings by the last letter:**"
      ]
    },
    {
      "cell_type": "code",
      "metadata": {
        "id": "VVD_0Zc25umo",
        "outputId": "0103a0ee-d3f9-4f00-9354-fe70b81925fb",
        "colab": {
          "base_uri": "https://localhost:8080/",
          "height": 34
        }
      },
      "source": [
        "# without using lambda\n",
        "simpsons = ['homer', 'marge', 'bart']\n",
        "def last_letter(word):\n",
        "    return word[-1]\n",
        "sorted(simpsons, key=last_letter)"
      ],
      "execution_count": 22,
      "outputs": [
        {
          "output_type": "execute_result",
          "data": {
            "text/plain": [
              "['marge', 'homer', 'bart']"
            ]
          },
          "metadata": {
            "tags": []
          },
          "execution_count": 22
        }
      ]
    },
    {
      "cell_type": "code",
      "metadata": {
        "id": "g2o_Ysqy5umq",
        "outputId": "f44c6e6a-0626-4c6b-94fc-a5669f33be69",
        "colab": {
          "base_uri": "https://localhost:8080/",
          "height": 34
        }
      },
      "source": [
        "# using lambda\n",
        "sorted(simpsons, key=lambda word: word[-1])"
      ],
      "execution_count": 23,
      "outputs": [
        {
          "output_type": "execute_result",
          "data": {
            "text/plain": [
              "['marge', 'homer', 'bart']"
            ]
          },
          "metadata": {
            "tags": []
          },
          "execution_count": 23
        }
      ]
    },
    {
      "cell_type": "code",
      "metadata": {
        "id": "XRfKTbC35ums",
        "outputId": "87bf820f-d5cb-4518-b208-7330f4810e7e",
        "colab": {
          "base_uri": "https://localhost:8080/",
          "height": 34
        }
      },
      "source": [
        "##  For Loops and While Loops\n",
        "\n",
        "# includes the start value but excludes the stop value\n",
        "range(0, 3)"
      ],
      "execution_count": 24,
      "outputs": [
        {
          "output_type": "execute_result",
          "data": {
            "text/plain": [
              "range(0, 3)"
            ]
          },
          "metadata": {
            "tags": []
          },
          "execution_count": 24
        }
      ]
    },
    {
      "cell_type": "code",
      "metadata": {
        "id": "h3jrrML55umt",
        "outputId": "1b868371-b904-40ed-b70b-4c1d23cb0101",
        "colab": {
          "base_uri": "https://localhost:8080/",
          "height": 34
        }
      },
      "source": [
        "# default start value is 0\n",
        "range(3)"
      ],
      "execution_count": 25,
      "outputs": [
        {
          "output_type": "execute_result",
          "data": {
            "text/plain": [
              "range(0, 3)"
            ]
          },
          "metadata": {
            "tags": []
          },
          "execution_count": 25
        }
      ]
    },
    {
      "cell_type": "code",
      "metadata": {
        "id": "RhMhcKBl5umx",
        "outputId": "2a21cbca-cd44-4af3-9946-e9db397d84a1",
        "colab": {
          "base_uri": "https://localhost:8080/",
          "height": 34
        }
      },
      "source": [
        "# third argument is the step value\n",
        "range(0, 5, 2)"
      ],
      "execution_count": 26,
      "outputs": [
        {
          "output_type": "execute_result",
          "data": {
            "text/plain": [
              "range(0, 5, 2)"
            ]
          },
          "metadata": {
            "tags": []
          },
          "execution_count": 26
        }
      ]
    },
    {
      "cell_type": "markdown",
      "metadata": {
        "id": "nCJKto4f5um0"
      },
      "source": [
        "**`for` loops:**"
      ]
    },
    {
      "cell_type": "code",
      "metadata": {
        "id": "vfDmYNUe5um0",
        "outputId": "dc16f89e-dfcb-4689-8964-c02d579f8e57",
        "colab": {
          "base_uri": "https://localhost:8080/",
          "height": 67
        }
      },
      "source": [
        "# not the recommended style\n",
        "fruits = ['apple', 'banana', 'cherry']\n",
        "for i in range(len(fruits)):\n",
        "    print(fruits[i].upper())"
      ],
      "execution_count": 27,
      "outputs": [
        {
          "output_type": "stream",
          "text": [
            "APPLE\n",
            "BANANA\n",
            "CHERRY\n"
          ],
          "name": "stdout"
        }
      ]
    },
    {
      "cell_type": "code",
      "metadata": {
        "id": "_51Qj55y5um2",
        "outputId": "11dc51f8-a574-44be-ca95-86e7e53197eb",
        "colab": {
          "base_uri": "https://localhost:8080/",
          "height": 67
        }
      },
      "source": [
        "# recommended style\n",
        "for fruit in fruits:\n",
        "    print(fruit.upper())"
      ],
      "execution_count": 28,
      "outputs": [
        {
          "output_type": "stream",
          "text": [
            "APPLE\n",
            "BANANA\n",
            "CHERRY\n"
          ],
          "name": "stdout"
        }
      ]
    },
    {
      "cell_type": "code",
      "metadata": {
        "id": "GMxO62QT5um3",
        "outputId": "ea8f3930-3624-49bd-fd43-7f5bcffaef24",
        "colab": {
          "base_uri": "https://localhost:8080/",
          "height": 67
        }
      },
      "source": [
        "# iterate through two things at once (using tuple unpacking)\n",
        "family = {'dad':'homer', 'mom':'marge', 'size':6}\n",
        "for key, value in family.items():\n",
        "    print(key, value)"
      ],
      "execution_count": 29,
      "outputs": [
        {
          "output_type": "stream",
          "text": [
            "dad homer\n",
            "mom marge\n",
            "size 6\n"
          ],
          "name": "stdout"
        }
      ]
    },
    {
      "cell_type": "code",
      "metadata": {
        "id": "fiUIdnVy5um5",
        "outputId": "e062159e-1dc5-45c4-f0f1-9b88706ab43a",
        "colab": {
          "base_uri": "https://localhost:8080/",
          "height": 67
        }
      },
      "source": [
        "# use enumerate if you need to access the index value within the loop\n",
        "for index, fruit in enumerate(fruits):\n",
        "    print(index, fruit)"
      ],
      "execution_count": 30,
      "outputs": [
        {
          "output_type": "stream",
          "text": [
            "0 apple\n",
            "1 banana\n",
            "2 cherry\n"
          ],
          "name": "stdout"
        }
      ]
    },
    {
      "cell_type": "markdown",
      "metadata": {
        "id": "oPon-Y5D5um7"
      },
      "source": [
        "**`for`/`else` loop:**"
      ]
    },
    {
      "cell_type": "code",
      "metadata": {
        "id": "jRFhlQLm5um8",
        "outputId": "f444af77-5216-401f-ca5d-bae9fcc5bc62",
        "colab": {
          "base_uri": "https://localhost:8080/",
          "height": 34
        }
      },
      "source": [
        "for fruit in fruits:\n",
        "    if fruit == 'banana':\n",
        "        print('Found the banana!')\n",
        "        break    # exit the loop and skip the 'else' block\n",
        "else:\n",
        "    # this block executes ONLY if the for loop completes without hitting 'break'\n",
        "    print(\"Can't find the banana\")"
      ],
      "execution_count": 31,
      "outputs": [
        {
          "output_type": "stream",
          "text": [
            "Found the banana!\n"
          ],
          "name": "stdout"
        }
      ]
    },
    {
      "cell_type": "markdown",
      "metadata": {
        "id": "-XmROgTD5um9"
      },
      "source": [
        "**`while` loop:**"
      ]
    },
    {
      "cell_type": "code",
      "metadata": {
        "id": "82kSn7al5um-",
        "outputId": "3e3a4a2e-002c-43aa-a1b0-185481a87be4",
        "colab": {
          "base_uri": "https://localhost:8080/",
          "height": 101
        }
      },
      "source": [
        "count = 0\n",
        "while count < 5:\n",
        "    print('This will print 5 times')\n",
        "    count += 1    # equivalent to 'count = count + 1'"
      ],
      "execution_count": 32,
      "outputs": [
        {
          "output_type": "stream",
          "text": [
            "This will print 5 times\n",
            "This will print 5 times\n",
            "This will print 5 times\n",
            "This will print 5 times\n",
            "This will print 5 times\n"
          ],
          "name": "stdout"
        }
      ]
    },
    {
      "cell_type": "code",
      "metadata": {
        "id": "b1NjwTFc5unB"
      },
      "source": [
        "## Comprehensions"
      ],
      "execution_count": 33,
      "outputs": []
    },
    {
      "cell_type": "markdown",
      "metadata": {
        "id": "qUCp3uDh5unD"
      },
      "source": [
        "**List comprehension:**"
      ]
    },
    {
      "cell_type": "code",
      "metadata": {
        "id": "f_oMkLsL5unE",
        "outputId": "3f07bf2c-5483-4d33-e109-6d68b1712dff",
        "colab": {
          "base_uri": "https://localhost:8080/",
          "height": 34
        }
      },
      "source": [
        "# for loop to create a list of cubes\n",
        "nums = [1, 2, 3, 4, 5]\n",
        "cubes = []\n",
        "for num in nums:\n",
        "    cubes.append(num**3)\n",
        "cubes"
      ],
      "execution_count": 34,
      "outputs": [
        {
          "output_type": "execute_result",
          "data": {
            "text/plain": [
              "[1, 8, 27, 64, 125]"
            ]
          },
          "metadata": {
            "tags": []
          },
          "execution_count": 34
        }
      ]
    },
    {
      "cell_type": "code",
      "metadata": {
        "id": "8lc7Qvtb5unJ",
        "outputId": "2421c04b-e582-45c8-9122-18cf8369065e",
        "colab": {
          "base_uri": "https://localhost:8080/",
          "height": 34
        }
      },
      "source": [
        "# equivalent list comprehension\n",
        "cubes = [num**3 for num in nums]\n",
        "cubes"
      ],
      "execution_count": 35,
      "outputs": [
        {
          "output_type": "execute_result",
          "data": {
            "text/plain": [
              "[1, 8, 27, 64, 125]"
            ]
          },
          "metadata": {
            "tags": []
          },
          "execution_count": 35
        }
      ]
    },
    {
      "cell_type": "code",
      "metadata": {
        "id": "vO27uV8f5unN",
        "outputId": "5fb3d40f-8bad-428b-cd03-3391145b9fa0",
        "colab": {
          "base_uri": "https://localhost:8080/",
          "height": 34
        }
      },
      "source": [
        "# for loop to create a list of cubes of even numbers\n",
        "cubes_of_even = []\n",
        "for num in nums:\n",
        "    if num % 2 == 0:\n",
        "        cubes_of_even.append(num**3)\n",
        "cubes_of_even"
      ],
      "execution_count": 36,
      "outputs": [
        {
          "output_type": "execute_result",
          "data": {
            "text/plain": [
              "[8, 64]"
            ]
          },
          "metadata": {
            "tags": []
          },
          "execution_count": 36
        }
      ]
    },
    {
      "cell_type": "code",
      "metadata": {
        "id": "-xmln5Oi5unP",
        "outputId": "1a437246-16f3-4d38-fb1c-d6a3a5e47054",
        "colab": {
          "base_uri": "https://localhost:8080/",
          "height": 34
        }
      },
      "source": [
        "# equivalent list comprehension\n",
        "# syntax: [expression for variable in iterable if condition]\n",
        "cubes_of_even = [num**3 for num in nums if num % 2 == 0]\n",
        "cubes_of_even"
      ],
      "execution_count": 37,
      "outputs": [
        {
          "output_type": "execute_result",
          "data": {
            "text/plain": [
              "[8, 64]"
            ]
          },
          "metadata": {
            "tags": []
          },
          "execution_count": 37
        }
      ]
    },
    {
      "cell_type": "code",
      "metadata": {
        "id": "Hfh8smM65unS",
        "outputId": "6be236eb-c912-4dfd-af88-67eeb15dba01",
        "colab": {
          "base_uri": "https://localhost:8080/",
          "height": 34
        }
      },
      "source": [
        "# for loop to cube even numbers and square odd numbers\n",
        "cubes_and_squares = []\n",
        "for num in nums:\n",
        "    if num % 2 == 0:\n",
        "        cubes_and_squares.append(num**3)\n",
        "    else:\n",
        "        cubes_and_squares.append(num**2)\n",
        "cubes_and_squares"
      ],
      "execution_count": 38,
      "outputs": [
        {
          "output_type": "execute_result",
          "data": {
            "text/plain": [
              "[1, 8, 9, 64, 25]"
            ]
          },
          "metadata": {
            "tags": []
          },
          "execution_count": 38
        }
      ]
    },
    {
      "cell_type": "code",
      "metadata": {
        "id": "SXBrPCtp5unU",
        "outputId": "b79920d2-53a3-4058-f655-1adce45cc38e",
        "colab": {
          "base_uri": "https://localhost:8080/",
          "height": 34
        }
      },
      "source": [
        "# equivalent list comprehension (using a ternary expression)\n",
        "# syntax: [true_condition if condition else false_condition for variable in iterable]\n",
        "cubes_and_squares = [num**3 if num % 2 == 0 else num**2 for num in nums]\n",
        "cubes_and_squares"
      ],
      "execution_count": 39,
      "outputs": [
        {
          "output_type": "execute_result",
          "data": {
            "text/plain": [
              "[1, 8, 9, 64, 25]"
            ]
          },
          "metadata": {
            "tags": []
          },
          "execution_count": 39
        }
      ]
    },
    {
      "cell_type": "code",
      "metadata": {
        "id": "6crASnuX5una",
        "outputId": "a16316e0-70ba-4068-8123-df5bbf83efba",
        "colab": {
          "base_uri": "https://localhost:8080/",
          "height": 34
        }
      },
      "source": [
        "# for loop to flatten a 2d-matrix\n",
        "matrix = [[1, 2], [3, 4]]\n",
        "items = []\n",
        "for row in matrix:\n",
        "    for item in row:\n",
        "        items.append(item)\n",
        "items"
      ],
      "execution_count": 40,
      "outputs": [
        {
          "output_type": "execute_result",
          "data": {
            "text/plain": [
              "[1, 2, 3, 4]"
            ]
          },
          "metadata": {
            "tags": []
          },
          "execution_count": 40
        }
      ]
    },
    {
      "cell_type": "code",
      "metadata": {
        "id": "TPUWv5YB5und",
        "outputId": "0a2b4e72-8a72-4b74-e98f-34cc11f77cce",
        "colab": {
          "base_uri": "https://localhost:8080/",
          "height": 34
        }
      },
      "source": [
        "# equivalent list comprehension\n",
        "items = [item for row in matrix\n",
        "              for item in row]\n",
        "items"
      ],
      "execution_count": 41,
      "outputs": [
        {
          "output_type": "execute_result",
          "data": {
            "text/plain": [
              "[1, 2, 3, 4]"
            ]
          },
          "metadata": {
            "tags": []
          },
          "execution_count": 41
        }
      ]
    },
    {
      "cell_type": "markdown",
      "metadata": {
        "id": "bkGO1Bsi5ung"
      },
      "source": [
        "**Set comprehension:**"
      ]
    },
    {
      "cell_type": "code",
      "metadata": {
        "id": "JN3eDEad5unh",
        "outputId": "6b6a042d-69ec-4290-d0f2-8201a67d5835",
        "colab": {
          "base_uri": "https://localhost:8080/",
          "height": 34
        }
      },
      "source": [
        "fruits = ['apple', 'banana', 'cherry']\n",
        "unique_lengths = {len(fruit) for fruit in fruits}\n",
        "unique_lengths"
      ],
      "execution_count": 42,
      "outputs": [
        {
          "output_type": "execute_result",
          "data": {
            "text/plain": [
              "{5, 6}"
            ]
          },
          "metadata": {
            "tags": []
          },
          "execution_count": 42
        }
      ]
    },
    {
      "cell_type": "markdown",
      "metadata": {
        "id": "GR0stiCV5unj"
      },
      "source": [
        "**Dictionary comprehension:**"
      ]
    },
    {
      "cell_type": "code",
      "metadata": {
        "id": "j2otzvgF5unk",
        "outputId": "5a1e59ab-47ac-417b-d7cb-ff76489e3dd1",
        "colab": {
          "base_uri": "https://localhost:8080/",
          "height": 34
        }
      },
      "source": [
        "fruit_lengths = {fruit:len(fruit) for fruit in fruits}\n",
        "fruit_lengths\n",
        "\n",
        "fruit_indices = {fruit:index for index, fruit in enumerate(fruits)}\n",
        "fruit_indices"
      ],
      "execution_count": 43,
      "outputs": [
        {
          "output_type": "execute_result",
          "data": {
            "text/plain": [
              "{'apple': 0, 'banana': 1, 'cherry': 2}"
            ]
          },
          "metadata": {
            "tags": []
          },
          "execution_count": 43
        }
      ]
    },
    {
      "cell_type": "markdown",
      "metadata": {
        "id": "kXrIAjuo5unl"
      },
      "source": [
        "##  Map, Filter and Reduce"
      ]
    },
    {
      "cell_type": "markdown",
      "metadata": {
        "id": "N8wDiRqv5unm"
      },
      "source": [
        "**`map` applies a function to every element of a sequence and returns a list (Python 2) or iterator (Python 3):**"
      ]
    },
    {
      "cell_type": "code",
      "metadata": {
        "id": "x5MD2wD85unn",
        "outputId": "b98b2e64-249b-44eb-802b-7773347a13b8",
        "colab": {
          "base_uri": "https://localhost:8080/",
          "height": 34
        }
      },
      "source": [
        "simpsons = ['homer', 'marge', 'bart']\n",
        "mapper = map(len, simpsons)\n",
        "mapper"
      ],
      "execution_count": 44,
      "outputs": [
        {
          "output_type": "execute_result",
          "data": {
            "text/plain": [
              "<map at 0x7f426cd443c8>"
            ]
          },
          "metadata": {
            "tags": []
          },
          "execution_count": 44
        }
      ]
    },
    {
      "cell_type": "code",
      "metadata": {
        "id": "5hXY5pQi5unq",
        "outputId": "3c0c1a4c-efcb-4b84-f171-4d77f1704804",
        "colab": {
          "base_uri": "https://localhost:8080/",
          "height": 67
        }
      },
      "source": [
        "for i in mapper:\n",
        "    print(i)"
      ],
      "execution_count": 45,
      "outputs": [
        {
          "output_type": "stream",
          "text": [
            "5\n",
            "5\n",
            "4\n"
          ],
          "name": "stdout"
        }
      ]
    },
    {
      "cell_type": "code",
      "metadata": {
        "id": "W3Y6zpR95unv",
        "outputId": "7d499262-4878-4b55-f79a-fd7a34cf15cf",
        "colab": {
          "base_uri": "https://localhost:8080/",
          "height": 34
        }
      },
      "source": [
        "# equivalent list comprehension\n",
        "[len(word) for word in simpsons]"
      ],
      "execution_count": 46,
      "outputs": [
        {
          "output_type": "execute_result",
          "data": {
            "text/plain": [
              "[5, 5, 4]"
            ]
          },
          "metadata": {
            "tags": []
          },
          "execution_count": 46
        }
      ]
    },
    {
      "cell_type": "code",
      "metadata": {
        "id": "9th1Kgma5uny",
        "outputId": "f86cc8f8-2526-41ca-e231-fd74587f3281",
        "colab": {
          "base_uri": "https://localhost:8080/",
          "height": 67
        }
      },
      "source": [
        "mapper = map(lambda word: word[-1], simpsons)\n",
        "for i in mapper:\n",
        "    print(i)"
      ],
      "execution_count": 47,
      "outputs": [
        {
          "output_type": "stream",
          "text": [
            "r\n",
            "e\n",
            "t\n"
          ],
          "name": "stdout"
        }
      ]
    },
    {
      "cell_type": "code",
      "metadata": {
        "id": "QFBn95JI5un0",
        "outputId": "008c2941-1583-4bee-a765-0f24db15159d",
        "colab": {
          "base_uri": "https://localhost:8080/",
          "height": 34
        }
      },
      "source": [
        "# equivalent list comprehension\n",
        "[word[-1] for word in simpsons]"
      ],
      "execution_count": 48,
      "outputs": [
        {
          "output_type": "execute_result",
          "data": {
            "text/plain": [
              "['r', 'e', 't']"
            ]
          },
          "metadata": {
            "tags": []
          },
          "execution_count": 48
        }
      ]
    },
    {
      "cell_type": "markdown",
      "metadata": {
        "id": "HJ6unc_N5un4"
      },
      "source": [
        "**`filter` returns a list (Python 2) or iterator (Python 3) containing the elements from a sequence for which a condition is `True`:**"
      ]
    },
    {
      "cell_type": "code",
      "metadata": {
        "id": "2bed5vJo5un5",
        "outputId": "6693ae9b-a641-4a55-8c29-2798980cf5be",
        "colab": {
          "base_uri": "https://localhost:8080/",
          "height": 67
        }
      },
      "source": [
        "nums = range(5)\n",
        "iterator = filter(lambda x: x % 2 == 0, nums) \n",
        "for element in iterator:\n",
        "    print(element)"
      ],
      "execution_count": 49,
      "outputs": [
        {
          "output_type": "stream",
          "text": [
            "0\n",
            "2\n",
            "4\n"
          ],
          "name": "stdout"
        }
      ]
    },
    {
      "cell_type": "code",
      "metadata": {
        "id": "NwNArNco5uoB",
        "outputId": "62b709fc-816a-4fd5-9311-285364a3f0d8",
        "colab": {
          "base_uri": "https://localhost:8080/",
          "height": 34
        }
      },
      "source": [
        "# equivalent list comprehension\n",
        "[num for num in nums if num % 2 == 0]"
      ],
      "execution_count": 50,
      "outputs": [
        {
          "output_type": "execute_result",
          "data": {
            "text/plain": [
              "[0, 2, 4]"
            ]
          },
          "metadata": {
            "tags": []
          },
          "execution_count": 50
        }
      ]
    },
    {
      "cell_type": "markdown",
      "metadata": {
        "id": "cjzCLdjd5uoD"
      },
      "source": [
        "**`Reduce` returns a single value after applying a function on an iterable**\n",
        "example, reduce(lambda x, y: x+y, [1, 2, 3, 4, 5]) calculates\n",
        "((((1+2)+3)+4)+5). "
      ]
    },
    {
      "cell_type": "code",
      "metadata": {
        "id": "w1RwcrQz5uoD",
        "outputId": "7a51f7c9-e232-4fdc-e8d0-11fecd408a58",
        "colab": {
          "base_uri": "https://localhost:8080/",
          "height": 34
        }
      },
      "source": [
        "from functools import reduce\n",
        "\n",
        "data = [1,2,3,4]\n",
        "reduce(lambda x,y: x * y, data)"
      ],
      "execution_count": 51,
      "outputs": [
        {
          "output_type": "execute_result",
          "data": {
            "text/plain": [
              "24"
            ]
          },
          "metadata": {
            "tags": []
          },
          "execution_count": 51
        }
      ]
    },
    {
      "cell_type": "markdown",
      "metadata": {
        "id": "NIwJOvm85uoE"
      },
      "source": [
        "## Loops"
      ]
    },
    {
      "cell_type": "markdown",
      "metadata": {
        "id": "qoKdhipk5uoE"
      },
      "source": [
        "**for-each loop**\n",
        "- In python, the for loop is called 'for each loop' ( that is the way we read it. \"for each element in iterable\")\n",
        "- We use it to iterate over a series, list, string etc any iterable"
      ]
    },
    {
      "cell_type": "code",
      "metadata": {
        "id": "kDUNDYB35uoF",
        "outputId": "03ee303a-a1c9-401f-a41b-ca8aa3f29819",
        "colab": {
          "base_uri": "https://localhost:8080/",
          "height": 118
        }
      },
      "source": [
        "# print each elemt of a list using for loop\n",
        "a = [1,2,3,4,5,6]  \n",
        "\n",
        "for element in a:\n",
        "    print(element)"
      ],
      "execution_count": 52,
      "outputs": [
        {
          "output_type": "stream",
          "text": [
            "1\n",
            "2\n",
            "3\n",
            "4\n",
            "5\n",
            "6\n"
          ],
          "name": "stdout"
        }
      ]
    },
    {
      "cell_type": "code",
      "metadata": {
        "id": "TRhDRL_a5uoG",
        "outputId": "f891c1a6-ba5a-4c90-9462-47da072d3282",
        "colab": {
          "base_uri": "https://localhost:8080/",
          "height": 34
        }
      },
      "source": [
        "# square each element of a list and append to a new list\n",
        "b = []  # empty list\n",
        "for element in a:\n",
        "    b.append(element*element)\n",
        "    \n",
        "print(b)    "
      ],
      "execution_count": 53,
      "outputs": [
        {
          "output_type": "stream",
          "text": [
            "[1, 4, 9, 16, 25, 36]\n"
          ],
          "name": "stdout"
        }
      ]
    },
    {
      "cell_type": "code",
      "metadata": {
        "id": "_6csInMk5uoH",
        "outputId": "e27b1973-6881-4b5a-95ac-3170892886c9",
        "colab": {
          "base_uri": "https://localhost:8080/",
          "height": 34
        }
      },
      "source": [
        "# populate a dictionary using a for loop\n",
        "name = ['joe', 'jonas', 'Kit', 'Harrington', 'Liam', 'Neeson']\n",
        "weight = [15, 18, 17, 22, 25, 23]\n",
        "dictionary = {}\n",
        "\n",
        "for i in range(0,6):\n",
        "    dictionary[name[i]] = weight[i]\n",
        "\n",
        "dictionary"
      ],
      "execution_count": 54,
      "outputs": [
        {
          "output_type": "execute_result",
          "data": {
            "text/plain": [
              "{'Harrington': 22, 'Kit': 17, 'Liam': 25, 'Neeson': 23, 'joe': 15, 'jonas': 18}"
            ]
          },
          "metadata": {
            "tags": []
          },
          "execution_count": 54
        }
      ]
    },
    {
      "cell_type": "code",
      "metadata": {
        "id": "v4jeVr355uoI",
        "outputId": "eb6d6b5a-5d07-4ee6-ba00-3fb0e5985322",
        "colab": {
          "base_uri": "https://localhost:8080/",
          "height": 521
        }
      },
      "source": [
        "# Lets print some shapes to get comfortable with loops\n",
        "\n",
        "# pyramid\n",
        "for i in range(10):\n",
        "    print((10-i)*' ' + i*'* ')\n",
        "\n",
        "# half diamond\n",
        "for i in range(10):\n",
        "    if i < 6:\n",
        "        print(i*' *')\n",
        "    else:\n",
        "        print((10 - i)*' *')\n",
        "\n",
        "# full diamond\n",
        "for i in range(10):\n",
        "    if i < 6:\n",
        "        print((10-i)*' ' + i*'* ')\n",
        "    else:\n",
        "        print((i*' ' + (10 - i)*'* '))\n",
        "    "
      ],
      "execution_count": 55,
      "outputs": [
        {
          "output_type": "stream",
          "text": [
            "          \n",
            "         * \n",
            "        * * \n",
            "       * * * \n",
            "      * * * * \n",
            "     * * * * * \n",
            "    * * * * * * \n",
            "   * * * * * * * \n",
            "  * * * * * * * * \n",
            " * * * * * * * * * \n",
            "\n",
            " *\n",
            " * *\n",
            " * * *\n",
            " * * * *\n",
            " * * * * *\n",
            " * * * *\n",
            " * * *\n",
            " * *\n",
            " *\n",
            "          \n",
            "         * \n",
            "        * * \n",
            "       * * * \n",
            "      * * * * \n",
            "     * * * * * \n",
            "      * * * * \n",
            "       * * * \n",
            "        * * \n",
            "         * \n"
          ],
          "name": "stdout"
        }
      ]
    }
  ]
}